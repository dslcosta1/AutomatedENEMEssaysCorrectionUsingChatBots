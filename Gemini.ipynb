{
 "cells": [
  {
   "cell_type": "markdown",
   "id": "70394aca-ca1e-441d-8291-c61e84bf2fc1",
   "metadata": {},
   "source": [
    "# Gemini"
   ]
  },
  {
   "cell_type": "code",
   "execution_count": 1,
   "id": "ee3628f8-5b18-4b83-96b9-02e623a02b79",
   "metadata": {},
   "outputs": [],
   "source": [
    "from utils.model_setup import *\n",
    "from utils.dataset_setup import *\n",
    "from utils.experiment_setup import *\n",
    "from utils.save_results import *\n",
    "from utils.state_control import *"
   ]
  },
  {
   "cell_type": "code",
   "execution_count": 2,
   "id": "259c284b-c84c-43b9-96a9-d6c6410f3525",
   "metadata": {},
   "outputs": [],
   "source": [
    "from importlib import reload"
   ]
  },
  {
   "cell_type": "code",
   "execution_count": 4,
   "id": "6029f73e-44e7-4ede-a72d-e14d77ede525",
   "metadata": {},
   "outputs": [],
   "source": [
    "path_to = \"./data/\"\n",
    "path_to_experiments = \"./experiments/\"\n",
    "state_filename = 'EstadoExperimentosChat_gemini.csv'\n",
    "model_identifier = 'gemini'"
   ]
  },
  {
   "cell_type": "markdown",
   "id": "b61809f3-5a27-4434-84b1-4d0ff4f9d3bb",
   "metadata": {},
   "source": [
    "## Excuting experiments"
   ]
  },
  {
   "cell_type": "code",
   "execution_count": 5,
   "id": "b97336cd-cfa0-488a-85bf-c972ca9da42f",
   "metadata": {},
   "outputs": [],
   "source": [
    "def run_experiment(exp, essays_dataset, start, limit, batch, path_to_save, filename_to_save, model_name, chat, state, path_to):\n",
    "    end = start\n",
    "    for ini in range(start, limit-batch, batch):\n",
    "        end = ini + batch\n",
    "        try:\n",
    "            essays_outputs = run_model(essays_dataset, exp, ini, end, model_name, chat)\n",
    "        except Exception as e:\n",
    "            print(f\"There was an exception on run_experiment!!: {e}\")\n",
    "            time.sleep(600)\n",
    "            chat = model_setup(model_name)\n",
    "            essays_outputs = run_model(essays_dataset, exp, ini, end, run_model, chat)\n",
    "        \n",
    "        if ini == 0:\n",
    "            create_csv_header(path_to_save, filename_to_save, essays_outputs[0].keys())\n",
    "        \n",
    "        save_data(path_to_save, filename_to_save, essays_outputs)\n",
    "        \n",
    "        print(\"Processed essays from \" + str(ini) + \" to: \" + str(end))\n",
    "        new_state = {\n",
    "            'Batch': end\n",
    "        }\n",
    "        state = update_state(state, new_state)\n",
    "        save_state(state, path_to, model_identifier)\n",
    "\n",
    "    print(\"End value is: \", end)\n",
    "    print(\"Limit value is:\", limit)\n",
    "\n",
    "    if limit !=  end:\n",
    "        essays_outputs = run_model(essays_dataset, exp, end, limit, model_name, chat)\n",
    "        save_data(path_to_save, filename_to_save, essays_outputs)\n",
    "        print(\"Processed essays from \" + str(end) + \" to: \" + str(limit))"
   ]
  },
  {
   "cell_type": "markdown",
   "id": "e2350fe5-ce57-405c-b2cb-3b0afbeab8ef",
   "metadata": {},
   "source": [
    "## Setup"
   ]
  },
  {
   "cell_type": "code",
   "execution_count": 6,
   "id": "6e3a744f-9397-44c7-aa5e-959e83b4f917",
   "metadata": {},
   "outputs": [
    {
     "name": "stdout",
     "output_type": "stream",
     "text": [
      "{'Model': 1, 'Database': 2, 'Experimento': 5, 'Execucao': 2, 'MaxExecucao': 5, 'Batch': 130}\n"
     ]
    }
   ],
   "source": [
    "use_experiment_state = True\n",
    "\n",
    "state = create_state(-1, -1, -1, 1, 5, 0)\n",
    "if use_experiment_state:\n",
    "  state = retrieve_state(path_to, model_identifier)"
   ]
  },
  {
   "cell_type": "code",
   "execution_count": 7,
   "id": "77a460ff-5235-4fdc-aa59-eb35782b54cb",
   "metadata": {
    "scrolled": true
   },
   "outputs": [
    {
     "name": "stdout",
     "output_type": "stream",
     "text": [
      "{'Model': 1, 'Database': 2, 'Experimento': 5, 'Execucao': 2, 'MaxExecucao': 5, 'Batch': 130}\n"
     ]
    }
   ],
   "source": [
    "print(state)"
   ]
  },
  {
   "cell_type": "code",
   "execution_count": 8,
   "id": "38222ea1-5669-4e0a-8fd9-ae91dd856c56",
   "metadata": {},
   "outputs": [
    {
     "name": "stdout",
     "output_type": "stream",
     "text": [
      "Choosen Model: gemini-1.5-flash\n"
     ]
    },
    {
     "ename": "KeyError",
     "evalue": "'GOOGLE_API_KEY_1'",
     "output_type": "error",
     "traceback": [
      "\u001b[0;31m---------------------------------------------------------------------------\u001b[0m",
      "\u001b[0;31mKeyError\u001b[0m                                  Traceback (most recent call last)",
      "Cell \u001b[0;32mIn[8], line 5\u001b[0m\n\u001b[1;32m      1\u001b[0m \u001b[38;5;124;03m\"\"\"\u001b[39;00m\n\u001b[1;32m      2\u001b[0m \u001b[38;5;124;03mSetup Model\u001b[39;00m\n\u001b[1;32m      3\u001b[0m \u001b[38;5;124;03m\"\"\"\u001b[39;00m\n\u001b[1;32m      4\u001b[0m model_name, model_code \u001b[38;5;241m=\u001b[39m choose_model(state[\u001b[38;5;124m'\u001b[39m\u001b[38;5;124mModel\u001b[39m\u001b[38;5;124m'\u001b[39m])\n\u001b[0;32m----> 5\u001b[0m chat \u001b[38;5;241m=\u001b[39m \u001b[43mmodel_setup\u001b[49m\u001b[43m(\u001b[49m\u001b[43mmodel_name\u001b[49m\u001b[43m)\u001b[49m\n",
      "File \u001b[0;32m~/Documents/IME/9sem/tcc/AutomatedENEMEssaysCorrectionUsingChatBots/utils/model_setup.py:41\u001b[0m, in \u001b[0;36mmodel_setup\u001b[0;34m(model_name, key_id)\u001b[0m\n\u001b[1;32m     39\u001b[0m \u001b[38;5;28;01mdef\u001b[39;00m \u001b[38;5;21mmodel_setup\u001b[39m(model_name, key_id \u001b[38;5;241m=\u001b[39m \u001b[38;5;241m1\u001b[39m):\n\u001b[1;32m     40\u001b[0m     \u001b[38;5;28;01mif\u001b[39;00m model_name \u001b[38;5;241m==\u001b[39m GEMINI_15_FLASH:\n\u001b[0;32m---> 41\u001b[0m         GOOGLE_API_KEY \u001b[38;5;241m=\u001b[39m \u001b[43mos\u001b[49m\u001b[38;5;241;43m.\u001b[39;49m\u001b[43menviron\u001b[49m\u001b[43m[\u001b[49m\u001b[38;5;124;43m'\u001b[39;49m\u001b[38;5;124;43mGOOGLE_API_KEY_\u001b[39;49m\u001b[38;5;124;43m'\u001b[39;49m\u001b[43m \u001b[49m\u001b[38;5;241;43m+\u001b[39;49m\u001b[43m \u001b[49m\u001b[38;5;28;43mstr\u001b[39;49m\u001b[43m(\u001b[49m\u001b[43mkey_id\u001b[49m\u001b[43m)\u001b[49m\u001b[43m]\u001b[49m\n\u001b[1;32m     43\u001b[0m         genai\u001b[38;5;241m.\u001b[39mconfigure(api_key\u001b[38;5;241m=\u001b[39mGOOGLE_API_KEY)\n\u001b[1;32m     45\u001b[0m         model \u001b[38;5;241m=\u001b[39m genai\u001b[38;5;241m.\u001b[39mGenerativeModel(model_name\u001b[38;5;241m=\u001b[39mGEMINI_15_FLASH)\n",
      "File \u001b[0;32m/usr/lib/python3.10/os.py:680\u001b[0m, in \u001b[0;36m_Environ.__getitem__\u001b[0;34m(self, key)\u001b[0m\n\u001b[1;32m    677\u001b[0m     value \u001b[38;5;241m=\u001b[39m \u001b[38;5;28mself\u001b[39m\u001b[38;5;241m.\u001b[39m_data[\u001b[38;5;28mself\u001b[39m\u001b[38;5;241m.\u001b[39mencodekey(key)]\n\u001b[1;32m    678\u001b[0m \u001b[38;5;28;01mexcept\u001b[39;00m \u001b[38;5;167;01mKeyError\u001b[39;00m:\n\u001b[1;32m    679\u001b[0m     \u001b[38;5;66;03m# raise KeyError with the original key value\u001b[39;00m\n\u001b[0;32m--> 680\u001b[0m     \u001b[38;5;28;01mraise\u001b[39;00m \u001b[38;5;167;01mKeyError\u001b[39;00m(key) \u001b[38;5;28;01mfrom\u001b[39;00m \u001b[38;5;28;01mNone\u001b[39;00m\n\u001b[1;32m    681\u001b[0m \u001b[38;5;28;01mreturn\u001b[39;00m \u001b[38;5;28mself\u001b[39m\u001b[38;5;241m.\u001b[39mdecodevalue(value)\n",
      "\u001b[0;31mKeyError\u001b[0m: 'GOOGLE_API_KEY_1'"
     ]
    }
   ],
   "source": [
    "\"\"\"\n",
    "Setup Model\n",
    "\"\"\"\n",
    "model_name, model_code = choose_model(state['Model'])\n",
    "chat = model_setup(model_name)"
   ]
  },
  {
   "cell_type": "code",
   "execution_count": 38,
   "id": "e09a8a43-c175-4573-9e55-ba756bfc245e",
   "metadata": {},
   "outputs": [
    {
     "name": "stdout",
     "output_type": "stream",
     "text": [
      "Dataset escolhido: aes_enem_dataset\n"
     ]
    }
   ],
   "source": [
    "\"\"\"\n",
    "Setup Dataset\n",
    "\"\"\"\n",
    "dataset_name, dataset_code = setup_dataset(state['Database'])\n",
    "essays_dataset = getDataset(path_to, dataset_name)"
   ]
  },
  {
   "cell_type": "code",
   "execution_count": 42,
   "id": "58f3dd6b-c278-454b-b62b-9824b73fc844",
   "metadata": {},
   "outputs": [
    {
     "name": "stdout",
     "output_type": "stream",
     "text": [
      "Experimento escolhido: exp5\n",
      "Create exp5\n",
      "Prompt template: \n",
      "Qual o método de avaliação utilizado na correção de redações do ENEM?\n",
      "\n",
      "####\n",
      "\n",
      "Corrija a redação abaixo seguindo o método de avaliação do ENEM. Atribuindo notas quantitativas entre 0 e 200 para cada uma das cinco competências. Forneça uma explicação detalhada que justifique cada nota.\n",
      "\n",
      "\n",
      "Tema:\n",
      "\"\"\"\n",
      "<TEMA>\n",
      "\"\"\"\n",
      "\n",
      "\n",
      "Redação:\n",
      "\"\"\"\n",
      "<REDAÇÃO>\n",
      "\"\"\"\n",
      "\n",
      "####\n",
      "\n",
      "Com os dados da reposta anterior, forneça apenas as notas quantitativas entre 0 e 200 para cada competência, e a nota final, no seguinte formato:[C1,C2,C3,C4,C5,Total], onde \"Total\" é a soma das notas das cinco competências. \n",
      "\n",
      "Não forneça texto na resposta, apenas as notas numéricas para competência e o total.\n",
      "{'Model': 1, 'Database': 2, 'Experimento': 5, 'Execucao': 2, 'MaxExecucao': 5, 'Batch': 100}\n",
      "{'Model': 1, 'Database': 2, 'Experimento': 5, 'Execucao': 2, 'MaxExecucao': 5, 'Batch': 100}\n",
      "Saving state: {'Model': 1, 'Database': 2, 'Experimento': 5, 'Execucao': 2, 'MaxExecucao': 5, 'Batch': 100}\n",
      "\n",
      "\n",
      "Execution number: 2\n",
      "\n",
      "\n",
      "Folder './data/results/gemini-1.5-flash' already exists.\n",
      "Folder './data/results/gemini-1.5-flash/exp5' already exists.\n",
      "Folder './data/results/gemini-1.5-flash/exp5/aes_enem_dataset' already exists.\n",
      "CSV with the answer will be saved in: aes_enem_dataset-gemini-1.5-flash-exp5-2\n",
      "It will evaluated essay with number:100\n",
      "Evaluated essay with number: 100\n",
      "It will evaluated essay with number:101\n",
      "Evaluated essay with number: 101\n",
      "It will evaluated essay with number:102\n",
      "Evaluated essay with number: 102\n",
      "It will evaluated essay with number:103\n",
      "Evaluated essay with number: 103\n",
      "It will evaluated essay with number:104\n",
      "Evaluated essay with number: 104\n",
      "It will evaluated essay with number:105\n",
      "Evaluated essay with number: 105\n",
      "It will evaluated essay with number:106\n",
      "Evaluated essay with number: 106\n",
      "It will evaluated essay with number:107\n",
      "Evaluated essay with number: 107\n",
      "It will evaluated essay with number:108\n",
      "Evaluated essay with number: 108\n",
      "It will evaluated essay with number:109\n",
      "Evaluated essay with number: 109\n",
      "Processed essays from 100 to: 110\n",
      "Saving state: {'Model': 1, 'Database': 2, 'Experimento': 5, 'Execucao': 2, 'MaxExecucao': 5, 'Batch': 110}\n",
      "It will evaluated essay with number:110\n",
      "Evaluated essay with number: 110\n",
      "It will evaluated essay with number:111\n",
      "Evaluated essay with number: 111\n",
      "It will evaluated essay with number:112\n",
      "Evaluated essay with number: 112\n",
      "It will evaluated essay with number:113\n",
      "Evaluated essay with number: 113\n",
      "It will evaluated essay with number:114\n",
      "Evaluated essay with number: 114\n",
      "It will evaluated essay with number:115\n",
      "Evaluated essay with number: 115\n",
      "It will evaluated essay with number:116\n",
      "Evaluated essay with number: 116\n",
      "It will evaluated essay with number:117\n",
      "Evaluated essay with number: 117\n",
      "It will evaluated essay with number:118\n",
      "Evaluated essay with number: 118\n",
      "It will evaluated essay with number:119\n",
      "Evaluated essay with number: 119\n",
      "Processed essays from 110 to: 120\n",
      "Saving state: {'Model': 1, 'Database': 2, 'Experimento': 5, 'Execucao': 2, 'MaxExecucao': 5, 'Batch': 120}\n",
      "It will evaluated essay with number:120\n",
      "Evaluated essay with number: 120\n",
      "It will evaluated essay with number:121\n",
      "Evaluated essay with number: 121\n",
      "It will evaluated essay with number:122\n",
      "Evaluated essay with number: 122\n",
      "It will evaluated essay with number:123\n",
      "Evaluated essay with number: 123\n",
      "It will evaluated essay with number:124\n",
      "Evaluated essay with number: 124\n",
      "It will evaluated essay with number:125\n",
      "Evaluated essay with number: 125\n",
      "It will evaluated essay with number:126\n",
      "Evaluated essay with number: 126\n",
      "It will evaluated essay with number:127\n",
      "Evaluated essay with number: 127\n",
      "It will evaluated essay with number:128\n",
      "Evaluated essay with number: 128\n",
      "It will evaluated essay with number:129\n",
      "Evaluated essay with number: 129\n",
      "Processed essays from 120 to: 130\n",
      "Saving state: {'Model': 1, 'Database': 2, 'Experimento': 5, 'Execucao': 2, 'MaxExecucao': 5, 'Batch': 130}\n",
      "It will evaluated essay with number:130\n",
      "Evaluated essay with number: 130\n",
      "It will evaluated essay with number:131\n"
     ]
    },
    {
     "ename": "KeyboardInterrupt",
     "evalue": "",
     "output_type": "error",
     "traceback": [
      "\u001b[0;31m---------------------------------------------------------------------------\u001b[0m",
      "\u001b[0;31mKeyboardInterrupt\u001b[0m                         Traceback (most recent call last)",
      "Cell \u001b[0;32mIn[42], line 32\u001b[0m\n\u001b[1;32m     29\u001b[0m batch \u001b[38;5;241m=\u001b[39m \u001b[38;5;241m10\u001b[39m\n\u001b[1;32m     30\u001b[0m limit \u001b[38;5;241m=\u001b[39m \u001b[38;5;28mlen\u001b[39m(essays_dataset)\n\u001b[0;32m---> 32\u001b[0m \u001b[43mrun_experiment\u001b[49m\u001b[43m(\u001b[49m\u001b[43mexp\u001b[49m\u001b[43m,\u001b[49m\u001b[43m \u001b[49m\u001b[43messays_dataset\u001b[49m\u001b[43m,\u001b[49m\u001b[43m \u001b[49m\u001b[43mstart\u001b[49m\u001b[43m,\u001b[49m\u001b[43m \u001b[49m\u001b[43mlimit\u001b[49m\u001b[43m,\u001b[49m\u001b[43m \u001b[49m\u001b[43mbatch\u001b[49m\u001b[43m,\u001b[49m\u001b[43m \u001b[49m\u001b[43mpath_to_save\u001b[49m\u001b[43m,\u001b[49m\u001b[43m \u001b[49m\u001b[43mfilename_to_save\u001b[49m\u001b[43m,\u001b[49m\u001b[43m \u001b[49m\u001b[43mmodel_name\u001b[49m\u001b[43m,\u001b[49m\u001b[43m \u001b[49m\u001b[43mchat\u001b[49m\u001b[43m,\u001b[49m\u001b[43m \u001b[49m\u001b[43mstate\u001b[49m\u001b[43m)\u001b[49m\n\u001b[1;32m     34\u001b[0m \u001b[38;5;250m\u001b[39m\u001b[38;5;124;03m'''\u001b[39;00m\n\u001b[1;32m     35\u001b[0m \u001b[38;5;124;03mChange to new execution\u001b[39;00m\n\u001b[1;32m     36\u001b[0m \u001b[38;5;124;03m'''\u001b[39;00m\n\u001b[1;32m     37\u001b[0m new_state \u001b[38;5;241m=\u001b[39m {\n\u001b[1;32m     38\u001b[0m     \u001b[38;5;124m'\u001b[39m\u001b[38;5;124mExecucao\u001b[39m\u001b[38;5;124m'\u001b[39m: state[\u001b[38;5;124m'\u001b[39m\u001b[38;5;124mExecucao\u001b[39m\u001b[38;5;124m'\u001b[39m] \u001b[38;5;241m+\u001b[39m \u001b[38;5;241m1\u001b[39m,\n\u001b[1;32m     39\u001b[0m     \u001b[38;5;124m'\u001b[39m\u001b[38;5;124mBatch\u001b[39m\u001b[38;5;124m'\u001b[39m: \u001b[38;5;241m0\u001b[39m\n\u001b[1;32m     40\u001b[0m }\n",
      "Cell \u001b[0;32mIn[34], line 8\u001b[0m, in \u001b[0;36mrun_experiment\u001b[0;34m(exp, essays_dataset, start, limit, batch, path_to_save, filename_to_save, model_name, chat, state)\u001b[0m\n\u001b[1;32m      4\u001b[0m end \u001b[38;5;241m=\u001b[39m ini \u001b[38;5;241m+\u001b[39m batch\n\u001b[1;32m      7\u001b[0m \u001b[38;5;28;01mtry\u001b[39;00m:\n\u001b[0;32m----> 8\u001b[0m     essays_outputs \u001b[38;5;241m=\u001b[39m \u001b[43mrun_model\u001b[49m\u001b[43m(\u001b[49m\u001b[43messays_dataset\u001b[49m\u001b[43m,\u001b[49m\u001b[43m \u001b[49m\u001b[43mexp\u001b[49m\u001b[43m,\u001b[49m\u001b[43m \u001b[49m\u001b[43mini\u001b[49m\u001b[43m,\u001b[49m\u001b[43m \u001b[49m\u001b[43mend\u001b[49m\u001b[43m,\u001b[49m\u001b[43m \u001b[49m\u001b[43mmodel_name\u001b[49m\u001b[43m,\u001b[49m\u001b[43m \u001b[49m\u001b[43mchat\u001b[49m\u001b[43m)\u001b[49m\n\u001b[1;32m      9\u001b[0m \u001b[38;5;28;01mexcept\u001b[39;00m \u001b[38;5;167;01mException\u001b[39;00m \u001b[38;5;28;01mas\u001b[39;00m e:\n\u001b[1;32m     10\u001b[0m     \u001b[38;5;28mprint\u001b[39m(\u001b[38;5;124mf\u001b[39m\u001b[38;5;124m\"\u001b[39m\u001b[38;5;124mThere was an exception on run_experiment!!: \u001b[39m\u001b[38;5;132;01m{\u001b[39;00me\u001b[38;5;132;01m}\u001b[39;00m\u001b[38;5;124m\"\u001b[39m)\n",
      "Cell \u001b[0;32mIn[33], line 22\u001b[0m, in \u001b[0;36mrun_model\u001b[0;34m(essays_dataset, exp, ini, end, model_name, chat)\u001b[0m\n\u001b[1;32m     20\u001b[0m \u001b[38;5;28mprint\u001b[39m(\u001b[38;5;124m\"\u001b[39m\u001b[38;5;124mIt will evaluated essay with number:\u001b[39m\u001b[38;5;124m\"\u001b[39m \u001b[38;5;241m+\u001b[39m \u001b[38;5;28mstr\u001b[39m(i))\n\u001b[1;32m     21\u001b[0m prompt \u001b[38;5;241m=\u001b[39m exp\u001b[38;5;241m.\u001b[39mbuild_prompt(essay, prompt)\n\u001b[0;32m---> 22\u001b[0m grades, response \u001b[38;5;241m=\u001b[39m \u001b[43mmade_question\u001b[49m\u001b[43m(\u001b[49m\u001b[43mmodel_name\u001b[49m\u001b[43m,\u001b[49m\u001b[43m \u001b[49m\u001b[43mchat\u001b[49m\u001b[43m,\u001b[49m\u001b[43m \u001b[49m\u001b[43mprompt\u001b[49m\u001b[43m)\u001b[49m\n\u001b[1;32m     24\u001b[0m \u001b[38;5;28mprint\u001b[39m(\u001b[38;5;124m\"\u001b[39m\u001b[38;5;124mEvaluated essay with number: \u001b[39m\u001b[38;5;124m\"\u001b[39m \u001b[38;5;241m+\u001b[39m \u001b[38;5;28mstr\u001b[39m(i))\n\u001b[1;32m     26\u001b[0m model_key \u001b[38;5;241m=\u001b[39m model_name\u001b[38;5;241m.\u001b[39msplit(\u001b[38;5;124m\"\u001b[39m\u001b[38;5;124m-\u001b[39m\u001b[38;5;124m\"\u001b[39m)[\u001b[38;5;241m0\u001b[39m]\n",
      "File \u001b[0;32m~/Documents/IME/9sem/tcc/AutomatedENEMEssaysCorrectionUsingChatBots/utils/model_setup.py:64\u001b[0m, in \u001b[0;36mmade_question\u001b[0;34m(model_name, chat, prompt)\u001b[0m\n\u001b[1;32m      0\u001b[0m <Error retrieving source code with stack_data see ipython/ipython#13598>\n",
      "\u001b[0;31mKeyboardInterrupt\u001b[0m: "
     ]
    }
   ],
   "source": [
    "while state['Experimento'] <= 6:\n",
    "    \"\"\"\n",
    "    Setup Experiment\n",
    "    \"\"\"\n",
    "    experiment_name, experiment_code = choose_experiment(state['Experimento'])\n",
    "    exp = setup_experiment(path_to_experiments, experiment_name)\n",
    "    \n",
    "    new_udpates = {\n",
    "        'Model': model_code,\n",
    "        'Database': dataset_code,\n",
    "        'Experimento': experiment_code,\n",
    "    }\n",
    "    print(state)\n",
    "    state = update_state(state, new_udpates)\n",
    "    print(state)\n",
    "    save_state(state, path_to, model_identifier)\n",
    "    \n",
    "    while state['Execucao'] <= state['MaxExecucao']:\n",
    "        print()\n",
    "        print()\n",
    "        print(\"Execution number: \" + str(state['Execucao']))\n",
    "        print()\n",
    "        print()\n",
    "        \n",
    "        start = state['Batch']\n",
    "        path_to_save = create_experiment_folder(path_to, model_name, experiment_name, dataset_name)\n",
    "        filename_to_save = build_filename_to_save(model_name, experiment_name, dataset_name, str(state['Execucao']))\n",
    "        \n",
    "        batch = 10\n",
    "        limit = len(essays_dataset)\n",
    "        \n",
    "        run_experiment(exp, essays_dataset, start, limit, batch, path_to_save, filename_to_save, model_name, chat, stat, path_to)\n",
    "        \n",
    "        '''\n",
    "        Change to new execution\n",
    "        '''\n",
    "        new_state = {\n",
    "            'Execucao': state['Execucao'] + 1,\n",
    "            'Batch': 0\n",
    "        }\n",
    "        state = update_state(state, new_state)\n",
    "        save_state(state, path_to, model_identifier)\n",
    "\n",
    "    '''\n",
    "    Change to new experiment\n",
    "    '''\n",
    "    new_state = {\n",
    "        'Execucao': 0,\n",
    "        'Experimento': state['Experimento'] + 1,\n",
    "        'Batch': 0\n",
    "    }\n",
    "    state = update_state(state, new_state)\n",
    "    save_state(state, path_to, model_identifier)\n"
   ]
  },
  {
   "cell_type": "code",
   "execution_count": null,
   "id": "9e20d94e-5b31-4762-ae1d-450a95dfd067",
   "metadata": {},
   "outputs": [],
   "source": [
    "\"\"\"\n",
    "Setup Experiment\n",
    "\"\"\"\n",
    "experiment_name, experiment_code = choose_experiment(experiment_code)\n",
    "exp = setup_experiment(path_to_experiments, experiment_name)"
   ]
  },
  {
   "cell_type": "code",
   "execution_count": null,
   "id": "c32fa487-19f7-4a7d-88e8-2a5ff1e14d34",
   "metadata": {},
   "outputs": [],
   "source": [
    "essay_data = essays_dataset[2]\n",
    "essay = essay_data[\"essay_text\"]\n",
    "prompt = essay_data[\"id_prompt\"].replace(\"-\", \" \")\n",
    "prompt = exp.build_prompt(essay, prompt)\n",
    "\n",
    "model_prompt = exp.build_prompt(essay, prompt)"
   ]
  },
  {
   "cell_type": "code",
   "execution_count": null,
   "id": "5f03b019-b162-48cb-a75e-63a9a1729c77",
   "metadata": {},
   "outputs": [],
   "source": [
    "grades, response = made_question(model_name, chat, model_prompt)"
   ]
  },
  {
   "cell_type": "code",
   "execution_count": null,
   "id": "cc90b5b5-f66a-4f84-b735-0d5149e46ee5",
   "metadata": {},
   "outputs": [],
   "source": [
    "print"
   ]
  },
  {
   "cell_type": "code",
   "execution_count": null,
   "id": "307853fc-1f65-4267-bec5-574db7f235f7",
   "metadata": {},
   "outputs": [],
   "source": []
  }
 ],
 "metadata": {
  "kernelspec": {
   "display_name": "Python 3 (ipykernel)",
   "language": "python",
   "name": "python3"
  },
  "language_info": {
   "codemirror_mode": {
    "name": "ipython",
    "version": 3
   },
   "file_extension": ".py",
   "mimetype": "text/x-python",
   "name": "python",
   "nbconvert_exporter": "python",
   "pygments_lexer": "ipython3",
   "version": "3.10.12"
  }
 },
 "nbformat": 4,
 "nbformat_minor": 5
}
