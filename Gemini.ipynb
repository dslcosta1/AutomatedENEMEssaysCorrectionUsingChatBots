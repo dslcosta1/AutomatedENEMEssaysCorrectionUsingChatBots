{
 "cells": [
  {
   "cell_type": "markdown",
   "id": "70394aca-ca1e-441d-8291-c61e84bf2fc1",
   "metadata": {},
   "source": [
    "# Gemini"
   ]
  },
  {
   "cell_type": "code",
   "execution_count": null,
   "id": "ee3628f8-5b18-4b83-96b9-02e623a02b79",
   "metadata": {},
   "outputs": [],
   "source": [
    "from utils.model_setup import *\n",
    "from utils.dataset_setup import *\n",
    "from utils.experiment_setup import *\n",
    "from utils.save_results import *\n",
    "from utils.state_control import *\n",
    "from utils.run_experiment import *"
   ]
  },
  {
   "cell_type": "code",
   "execution_count": null,
   "id": "259c284b-c84c-43b9-96a9-d6c6410f3525",
   "metadata": {},
   "outputs": [],
   "source": [
    "from importlib import reload"
   ]
  },
  {
   "cell_type": "code",
   "execution_count": null,
   "id": "6029f73e-44e7-4ede-a72d-e14d77ede525",
   "metadata": {},
   "outputs": [],
   "source": [
    "model_identifier = 'gemini'\n",
    "path_to = \"./data/\"\n",
    "api_key = 4 # With value -1 it will change every 10 iterations\n",
    "execution_beggining = 6"
   ]
  },
  {
   "cell_type": "markdown",
   "id": "e2350fe5-ce57-405c-b2cb-3b0afbeab8ef",
   "metadata": {},
   "source": [
    "## Setup"
   ]
  },
  {
   "cell_type": "code",
   "execution_count": null,
   "id": "6e3a744f-9397-44c7-aa5e-959e83b4f917",
   "metadata": {},
   "outputs": [],
   "source": [
    "\"\"\"\n",
    "Setup State\n",
    "\"\"\"\n",
    "use_experiment_state = True\n",
    "\n",
    "state = create_state(-1, -1, -1, 6, 10, 0)\n",
    "if use_experiment_state:\n",
    "  state = retrieve_state(path_to, model_identifier)"
   ]
  },
  {
   "cell_type": "code",
   "execution_count": null,
   "id": "f4d18a91-8a43-4bf3-af4b-ee008b86255c",
   "metadata": {
    "scrolled": true
   },
   "outputs": [],
   "source": [
    "execute_experiment(state, model_identifier, path_to, api_key%5 + 1, execution_beggining)"
   ]
  },
  {
   "cell_type": "code",
   "execution_count": null,
   "id": "ff18488a-3a59-4e44-9790-e878bd946095",
   "metadata": {},
   "outputs": [],
   "source": []
  },
  {
   "cell_type": "code",
   "execution_count": null,
   "id": "41d16f41-ea17-49cf-84de-9caa3710566a",
   "metadata": {},
   "outputs": [],
   "source": []
  },
  {
   "cell_type": "code",
   "execution_count": null,
   "id": "1d9343d6-9e4f-4883-8b57-0505cd28f656",
   "metadata": {},
   "outputs": [],
   "source": []
  }
 ],
 "metadata": {
  "kernelspec": {
   "display_name": "Python 3 (ipykernel)",
   "language": "python",
   "name": "python3"
  },
  "language_info": {
   "codemirror_mode": {
    "name": "ipython",
    "version": 3
   },
   "file_extension": ".py",
   "mimetype": "text/x-python",
   "name": "python",
   "nbconvert_exporter": "python",
   "pygments_lexer": "ipython3",
   "version": "3.10.12"
  }
 },
 "nbformat": 4,
 "nbformat_minor": 5
}
