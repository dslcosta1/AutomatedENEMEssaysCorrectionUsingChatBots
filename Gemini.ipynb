{
 "cells": [
  {
   "cell_type": "markdown",
   "id": "70394aca-ca1e-441d-8291-c61e84bf2fc1",
   "metadata": {},
   "source": [
    "# Gemini"
   ]
  },
  {
   "cell_type": "code",
   "execution_count": 12,
   "id": "ee3628f8-5b18-4b83-96b9-02e623a02b79",
   "metadata": {},
   "outputs": [],
   "source": [
    "from utils.model_setup import *\n",
    "from utils.dataset_setup import *\n",
    "from utils.experiment_setup import *\n",
    "from utils.save_results import *\n",
    "from utils.state_control import *\n",
    "from utils.run_experiment import *"
   ]
  },
  {
   "cell_type": "code",
   "execution_count": 13,
   "id": "259c284b-c84c-43b9-96a9-d6c6410f3525",
   "metadata": {},
   "outputs": [],
   "source": [
    "from importlib import reload"
   ]
  },
  {
   "cell_type": "code",
   "execution_count": 14,
   "id": "6029f73e-44e7-4ede-a72d-e14d77ede525",
   "metadata": {},
   "outputs": [],
   "source": [
    "model_identifier = 'gemini'\n",
    "path_to = \"./data/\"\n",
    "api_key = 5 # With value -1 it will change every 10 iterations"
   ]
  },
  {
   "cell_type": "markdown",
   "id": "e2350fe5-ce57-405c-b2cb-3b0afbeab8ef",
   "metadata": {},
   "source": [
    "## Setup"
   ]
  },
  {
   "cell_type": "code",
   "execution_count": 15,
   "id": "6e3a744f-9397-44c7-aa5e-959e83b4f917",
   "metadata": {},
   "outputs": [
    {
     "name": "stdout",
     "output_type": "stream",
     "text": [
      "{'Model': 1, 'Database': 1, 'Experimento': 2, 'Execucao': 3, 'MaxExecucao': 5, 'Batch': 20}\n"
     ]
    }
   ],
   "source": [
    "\"\"\"\n",
    "Setup State\n",
    "\"\"\"\n",
    "use_experiment_state = True\n",
    "\n",
    "state = create_state(-1, -1, -1, 1, 5, 0)\n",
    "if use_experiment_state:\n",
    "  state = retrieve_state(path_to, model_identifier)"
   ]
  },
  {
   "cell_type": "code",
   "execution_count": null,
   "id": "74bfea67-9b38-467f-ad4a-d228b9311640",
   "metadata": {
    "scrolled": true
   },
   "outputs": [
    {
     "name": "stdout",
     "output_type": "stream",
     "text": [
      "Choosen Model: gemini-1.5-flash\n",
      "\n",
      "\n",
      " Setting model gemini-1.5-flash with API Key 2 \n",
      "\n",
      "\n",
      "genai.GenerativeModel(\n",
      "    model_name='models/gemini-1.5-flash',\n",
      "    generation_config={},\n",
      "    safety_settings={},\n",
      "    tools=None,\n",
      "    system_instruction=None,\n",
      "    cached_content=None\n",
      ")\n",
      "Dataset escolhido: essaysFullGrade\n",
      "Experimento escolhido: exp2\n",
      "Create exp2\n",
      "Prompt template: \n",
      "Correct the following writing, following the ENEM assessment method, only deliver the quantitative grade between 0 and 200 for each competency and the final grade in the following format: [x, y, z, w, t, x+y+z+w+t]. I don't want text in the answer, just the numerical grades for each competency and the total\n",
      "\n",
      "Theme: <TEMA>\n",
      "Writing: <REDAÇÃO>\n",
      "{'Model': 1, 'Database': 1, 'Experimento': 2, 'Execucao': 3, 'MaxExecucao': 5, 'Batch': 20}\n",
      "{'Model': 1, 'Database': 1, 'Experimento': 2, 'Execucao': 3, 'MaxExecucao': 5, 'Batch': 20}\n",
      "Saving state: {'Model': 1, 'Database': 1, 'Experimento': 2, 'Execucao': 3, 'MaxExecucao': 5, 'Batch': 20}\n",
      "\n",
      "\n",
      "Execution number: 3\n",
      "\n",
      "\n",
      "Folder './data/results/gemini-1.5-flash' already exists.\n",
      "Folder './data/results/gemini-1.5-flash/exp2' already exists.\n",
      "Folder './data/results/gemini-1.5-flash/exp2/essaysFullGrade' already exists.\n",
      "CSV with the answer will be saved in: essaysFullGrade-gemini-1.5-flash-exp2-3\n",
      "End value is:  20\n",
      "Limit value is: 27\n",
      "It will evaluated essay with number:20\n"
     ]
    }
   ],
   "source": [
    "while api_key < 100:\n",
    "    api_key += 1\n",
    "    try:\n",
    "        execute_experiment(state, model_identifier, path_to, api_key%5 + 1)\n",
    "    except Exception as e:\n",
    "        time.sleep(1800)\n",
    "        continue\n"
   ]
  },
  {
   "cell_type": "code",
   "execution_count": null,
   "id": "ff18488a-3a59-4e44-9790-e878bd946095",
   "metadata": {},
   "outputs": [],
   "source": []
  },
  {
   "cell_type": "code",
   "execution_count": null,
   "id": "41d16f41-ea17-49cf-84de-9caa3710566a",
   "metadata": {},
   "outputs": [],
   "source": []
  }
 ],
 "metadata": {
  "kernelspec": {
   "display_name": "Python 3 (ipykernel)",
   "language": "python",
   "name": "python3"
  },
  "language_info": {
   "codemirror_mode": {
    "name": "ipython",
    "version": 3
   },
   "file_extension": ".py",
   "mimetype": "text/x-python",
   "name": "python",
   "nbconvert_exporter": "python",
   "pygments_lexer": "ipython3",
   "version": "3.10.12"
  }
 },
 "nbformat": 4,
 "nbformat_minor": 5
}
