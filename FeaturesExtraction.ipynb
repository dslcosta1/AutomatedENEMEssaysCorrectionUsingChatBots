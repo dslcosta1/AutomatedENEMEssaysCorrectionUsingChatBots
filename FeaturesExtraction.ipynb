{
 "cells": [
  {
   "cell_type": "code",
   "execution_count": 1,
   "id": "07548b84-63a3-477b-b981-9f1bfaad8a25",
   "metadata": {},
   "outputs": [],
   "source": [
    "from utils.nilc_nlp import *\n",
    "from utils import dataset_setup\n",
    "from utils.save_results import *"
   ]
  },
  {
   "cell_type": "code",
   "execution_count": 2,
   "id": "c4750cec-e88f-431b-9e90-b853147bc1af",
   "metadata": {},
   "outputs": [],
   "source": [
    "path_to = './data/'"
   ]
  },
  {
   "cell_type": "code",
   "execution_count": 3,
   "id": "89334d23-dc9e-483e-a853-83b7a4916c15",
   "metadata": {},
   "outputs": [
    {
     "name": "stdout",
     "output_type": "stream",
     "text": [
      "ATENCAO - Escolha o dataset:\n",
      "1 - essaysFullGrade\n",
      "2 - aes_enem_dataset\n",
      "3 - propor2024\n",
      "4 - extended2024\n",
      "5 - extended_complete\n",
      "6 - Outro\n"
     ]
    },
    {
     "name": "stdin",
     "output_type": "stream",
     "text": [
      "Coloque o número do dataset que gostaria de executar:  3\n"
     ]
    },
    {
     "name": "stdout",
     "output_type": "stream",
     "text": [
      "Dataset escolhido: propor2024\n"
     ]
    }
   ],
   "source": [
    "\"\"\"\n",
    "Setup Dataset\n",
    "\"\"\"\n",
    "dataset_name, dataset_code = dataset_setup.setup_dataset(3)\n",
    "essays_dataset = dataset_setup.getDataset(path_to, dataset_name)"
   ]
  },
  {
   "cell_type": "code",
   "execution_count": 4,
   "id": "06e94ee4-15eb-43fa-a3fa-bc214163aebc",
   "metadata": {},
   "outputs": [],
   "source": [
    "model_name = \"nilc_metrix\"\n",
    "experiment_name = \"exp0\""
   ]
  },
  {
   "cell_type": "code",
   "execution_count": 5,
   "id": "26f1208b-29b2-4082-9da1-524717f97655",
   "metadata": {},
   "outputs": [
    {
     "name": "stdout",
     "output_type": "stream",
     "text": [
      "Folder './data/results/nilc_metrix' already exists.\n",
      "Folder './data/results/nilc_metrix/exp0' already exists.\n",
      "Folder './data/results/nilc_metrix/exp0/propor2024' already exists.\n",
      "CSV with the answer will be saved in: propor2024-nilc_metrix-exp0-0\n"
     ]
    }
   ],
   "source": [
    "path_to_save = create_experiment_folder(path_to, model_name, experiment_name, dataset_name)\n",
    "filename_to_save = build_filename_to_save(model_name, experiment_name, dataset_name, \"0\")"
   ]
  },
  {
   "cell_type": "code",
   "execution_count": 6,
   "id": "2d93fe2f-f983-445e-8c5e-6ab2a0c1cdca",
   "metadata": {},
   "outputs": [
    {
     "data": {
      "text/plain": [
       "1155"
      ]
     },
     "execution_count": 6,
     "metadata": {},
     "output_type": "execute_result"
    }
   ],
   "source": [
    "len(essays_dataset)"
   ]
  },
  {
   "cell_type": "code",
   "execution_count": 8,
   "id": "920bcd6f-45e0-4cff-ba3d-84b2f0142191",
   "metadata": {},
   "outputs": [
    {
     "data": {
      "text/plain": [
       "{'id': '15.html',\n",
       " 'id_prompt': 'epidemia-alimentar-sobrepeso-e-obesidade',\n",
       " 'essay_title': 'A propaganda e o excesso de peso',\n",
       " 'essay_text': 'O mundo evoluiu, trazendo junto a sua evolução alguns problemas, dentre eles o sobrepeso e a obesidade que acomete crianças, adultos e idosos causando lhes sérios problemas de saúde que podem inclusive levar a morte. A organização mundial da saúde atribui o excesso de peso e a obesidade a vários fatores, e tem se preocupado em alertar a população a respeito disso, como a mesma já declarou: um desses fatores é a propaganda que exerce importante influência para o crescimento desses problemas. \\nA alimentação é considerada a maior vilã de todo esse transtorno, mas outros agentes causadores desses problemas são: a genética, pois existe a questão da hereditariedade, a cultura, que depende do meio onde a pessoa está inserida e até a economia, no que diz respeito a falta de recursos para uma boa alimentação. Aliado a isso, somos bombardeados diariamente tanto nas redes sociais, como na televisão e nas ruas com propagandas de comidas nada saudáveis que acabam sendo irresistíveis e tentadoras.\\nUm público alvo dessas propagandas são as crianças que não resistem a mistura prazerosa de açúcar, sal e gordura, quem não se lembra do comercial do Mc Donald`s, onde eles ofereciam brinquedos como brindes dentro do pacotinho de lanche como uma forma de atrai-los, muitos pais mesmo sabendo do risco fazem a vontade dos filhos, alguns cientes de que a longo prazo problemas de saúde podem aparecer, e quando estes aparecem são ali jogados fora toda uma infância, ou dependendo da situação toda uma vida.\\nContudo, a criação de hábitos saudáveis começa em casa, com uma boa educação alimentar procurando atenuar ao máximo problemas de saúde futuros. Para combater a questão da desigualdade econômica e a cultura, os governos poderiam diminuir a taxação sobre alimentos saudáveis para que esses pudessem ser mais acessíveis a todos, e criar nas escola um programa que substitua a merenda escolar tradicional por uma mais saudável, fazer palestras e seminários com o tema e investir pesado em propagandas de incentivo a boa alimentação.',\n",
       " 'grades': '[160 120 160 120 160 720]',\n",
       " 'essay_year': '2018'}"
      ]
     },
     "execution_count": 8,
     "metadata": {},
     "output_type": "execute_result"
    }
   ],
   "source": [
    "essays_dataset[711]"
   ]
  },
  {
   "cell_type": "code",
   "execution_count": null,
   "id": "28c934bd-5534-4961-8d30-59c906a0c147",
   "metadata": {},
   "outputs": [],
   "source": [
    "start = 711\n",
    "for i in range(start, len(essays_dataset)):\n",
    "    \n",
    "    essay_data = essays_dataset[i]\n",
    "    essay_text = essay_data[\"essay_text\"]\n",
    "    if i == 711:\n",
    "        essay_text = essay_text.replace(\"`\", \"\")\n",
    "\n",
    "    raw_output = run_text_metrics_docker(essay_text)\n",
    "    metrics_dict = parse_metrics_output(raw_output)\n",
    "\n",
    "    essay_data.update(metrics_dict)\n",
    "\n",
    "    if (i == 0) :\n",
    "        create_csv_header(path_to_save, filename_to_save, essay_data.keys())\n",
    "\n",
    "    save_data(path_to_save, filename_to_save, [essay_data])\n",
    "\n",
    "    print(\"Evaluated essay: \" + str(i))"
   ]
  },
  {
   "cell_type": "code",
   "execution_count": null,
   "id": "dddd4c4e-0201-4f14-9dc1-308b9e42819b",
   "metadata": {},
   "outputs": [],
   "source": []
  },
  {
   "cell_type": "code",
   "execution_count": null,
   "id": "8353ebb9-0ab0-4663-b3c2-9482412579d5",
   "metadata": {},
   "outputs": [],
   "source": []
  }
 ],
 "metadata": {
  "kernelspec": {
   "display_name": "Python 3 (ipykernel)",
   "language": "python",
   "name": "python3"
  },
  "language_info": {
   "codemirror_mode": {
    "name": "ipython",
    "version": 3
   },
   "file_extension": ".py",
   "mimetype": "text/x-python",
   "name": "python",
   "nbconvert_exporter": "python",
   "pygments_lexer": "ipython3",
   "version": "3.10.12"
  }
 },
 "nbformat": 4,
 "nbformat_minor": 5
}
