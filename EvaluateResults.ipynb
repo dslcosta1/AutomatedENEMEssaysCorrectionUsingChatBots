{
 "cells": [
  {
   "cell_type": "code",
   "execution_count": 1,
   "id": "6fd48800-e60a-49ef-81a4-1d9f21f2aeb3",
   "metadata": {},
   "outputs": [],
   "source": [
    "import pandas as pd\n",
    "from sklearn.metrics import cohen_kappa_score\n",
    "import numpy as np\n",
    "from utils.save_results import *\n",
    "from utils.read_results import *\n",
    "from utils.model_setup import *\n",
    "from utils.dataset_setup import *\n",
    "from utils.experiment_setup import *\n",
    "from utils.metric_setup import *"
   ]
  },
  {
   "cell_type": "code",
   "execution_count": 2,
   "id": "e53cd2ec-a7a5-4f09-9856-f33e2bd861ac",
   "metadata": {},
   "outputs": [],
   "source": [
    "path_to = \"./data/\""
   ]
  },
  {
   "cell_type": "code",
   "execution_count": null,
   "id": "39088e30-1c98-4aff-afe4-f4d92669042c",
   "metadata": {},
   "outputs": [
    {
     "name": "stdout",
     "output_type": "stream",
     "text": [
      "ATENTION - Choose the model:\n",
      "1 - gemini-1.5-flash\n",
      "2 - llama-3.2-90b-text-preview\n",
      "3 - other\n"
     ]
    }
   ],
   "source": [
    "\"\"\"\n",
    "Setup Model\n",
    "\"\"\"\n",
    "model_name, model_code = choose_model()\n",
    "chat = model_setup(model_name)"
   ]
  },
  {
   "cell_type": "code",
   "execution_count": null,
   "id": "49f56951-79ee-4678-a4b7-556a9373300d",
   "metadata": {},
   "outputs": [],
   "source": [
    "\"\"\"\n",
    "Setup Dataset\n",
    "\"\"\"\n",
    "dataset_name, dataset_code = setup_dataset()"
   ]
  },
  {
   "cell_type": "code",
   "execution_count": null,
   "id": "a54abac4-2129-42ef-8903-ff370292c921",
   "metadata": {},
   "outputs": [],
   "source": [
    "\"\"\"\n",
    "Setup Metric\n",
    "\"\"\"\n",
    "metric_name = choose_metric()"
   ]
  },
  {
   "cell_type": "code",
   "execution_count": null,
   "id": "e979f86c-c7da-4174-a484-04b39d6a0c68",
   "metadata": {},
   "outputs": [],
   "source": [
    "means = []\n",
    "stds = []\n",
    "for j in range(1, 2):\n",
    "  experiment_name, experiment_code = choose_experiment(j)\n",
    "  comp = []\n",
    "  results = []\n",
    "  path_to_save = create_experiment_folder(path_to, model_name, experiment_name, dataset_name)\n",
    "\n",
    "  for i in range(1, 4):\n",
    "    id = str(i)\n",
    "\n",
    "    filename_to_save = build_filename_to_save(model_name, experiment_name, dataset_name, id)\n",
    "    dataset = read_csv(path_to_save, filename_to_save)\n",
    "    nota_original, nota_model = get_grades(dataset, model_name)\n",
    "    print(nota_original)\n",
    "    print(nota_model)\n",
    "\n",
    "    if metric_name == QWK:\n",
    "      metric_values = calculate_qwk(nota_original, nota_model)\n",
    "    elif metric_name == RMSE:\n",
    "      metric_values = calculate_rmse(nota_original, nota_model)\n",
    "    elif metric_name == MAE:\n",
    "        metric_values = calculate_mae(nota_original, nota_model)\n",
    "\n",
    "    print(metric_values)\n",
    "    results.append(metric_values)\n",
    "\n",
    "  # Convert the list to a NumPy array\n",
    "  np_matrix = np.array(results)\n",
    "\n",
    "  # Calculate the mean along the columns (axis=0)\n",
    "  column_means = np.mean(np_matrix, axis=0)\n",
    "  means.append(column_means)\n",
    "\n",
    "  # Calculate the standard deviation along the columns (axis=0)\n",
    "  column_std = np.std(np_matrix, axis=0)\n",
    "  stds.append(column_std)"
   ]
  },
  {
   "cell_type": "code",
   "execution_count": null,
   "id": "d04bec63-9986-4813-814c-132ad3e3081c",
   "metadata": {},
   "outputs": [],
   "source": []
  }
 ],
 "metadata": {
  "kernelspec": {
   "display_name": "Python 3 (ipykernel)",
   "language": "python",
   "name": "python3"
  },
  "language_info": {
   "codemirror_mode": {
    "name": "ipython",
    "version": 3
   },
   "file_extension": ".py",
   "mimetype": "text/x-python",
   "name": "python",
   "nbconvert_exporter": "python",
   "pygments_lexer": "ipython3",
   "version": "3.10.12"
  }
 },
 "nbformat": 4,
 "nbformat_minor": 5
}
