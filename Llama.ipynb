{
 "cells": [
  {
   "cell_type": "markdown",
   "id": "ebab7e9e-5a47-4fed-b84d-0722bfe77769",
   "metadata": {},
   "source": [
    "# Llama"
   ]
  },
  {
   "cell_type": "code",
   "execution_count": 1,
   "id": "259c284b-c84c-43b9-96a9-d6c6410f3525",
   "metadata": {},
   "outputs": [],
   "source": [
    "import sys\n",
    "sys.path.append(\"./\")"
   ]
  },
  {
   "cell_type": "code",
   "execution_count": 2,
   "id": "ee3628f8-5b18-4b83-96b9-02e623a02b79",
   "metadata": {},
   "outputs": [],
   "source": [
    "from utils.model_setup import *\n",
    "from utils.dataset_setup import *\n",
    "from utils.experiment_setup import *\n",
    "from utils.save_results import *"
   ]
  },
  {
   "cell_type": "code",
   "execution_count": 3,
   "id": "6029f73e-44e7-4ede-a72d-e14d77ede525",
   "metadata": {},
   "outputs": [],
   "source": [
    "path_to = \"./data/\"\n",
    "path_to_experiments = \"./experiments/\"\n",
    "state_filename = 'EstadoExperimentosChat_llama.csv'"
   ]
  },
  {
   "cell_type": "markdown",
   "id": "b61809f3-5a27-4434-84b1-4d0ff4f9d3bb",
   "metadata": {},
   "source": [
    "## Excuting experiments"
   ]
  },
  {
   "cell_type": "code",
   "execution_count": 4,
   "id": "1271dc6a-b3af-4eca-bc6e-e6bbe072163f",
   "metadata": {},
   "outputs": [],
   "source": [
    "def save_state(batch_saved=0):\n",
    "  state = {\n",
    "    'Model': model_code,\n",
    "    'Database': dataset_code,\n",
    "    'Experimento': experiment_code,\n",
    "    'Execucao': execution,\n",
    "    'MaxExecucao': execution_limit,\n",
    "    'Batch': batch_saved\n",
    "  }\n",
    "  with open(path_to + state_filename, mode='w') as file:\n",
    "    print(\"Saving state: \" + str(state))\n",
    "    writer = csv.DictWriter(file, fieldnames=state.keys())\n",
    "    writer.writeheader()\n",
    "    writer.writerow(state)"
   ]
  },
  {
   "cell_type": "code",
   "execution_count": 5,
   "id": "359d943d-2883-4ef8-b7a7-3ce47093fd06",
   "metadata": {},
   "outputs": [],
   "source": [
    "def run_model(essays_dataset, exp, ini, end, model_name):\n",
    "  essays_outputs = []\n",
    "\n",
    "  for i in range(ini, end):\n",
    "    if i == 34 and dataset_name == (\"essaysGrade1000\"):\n",
    "      print(\"Skipping essay number: \" + str(i))\n",
    "      continue\n",
    "\n",
    "    if (i == 101 or i == 131 or i == 143) and dataset_name == (\"extended2024\"):\n",
    "      print(\"Skipping essay number: \" + str(i))\n",
    "      continue\n",
    "\n",
    "    if (i == 97 or i == 98 or i == 112) and dataset_name == (\"propor2024\"):\n",
    "      print(\"Skipping essay number: \" + str(i))\n",
    "      continue\n",
    "\n",
    "    essay_data = essays_dataset[i]\n",
    "    essay = essay_data[\"essay_text\"]\n",
    "    prompt = essay_data[\"id_prompt\"].replace(\"-\", \" \")\n",
    "    print(\"It will evaluated essay with number:\" + str(i))\n",
    "    prompt = exp.build_prompt(essay, prompt)\n",
    "    grades, response = made_question(model_name, chat, prompt)\n",
    "\n",
    "    print(\"Evaluated essay with number: \" + str(i))\n",
    "\n",
    "    model_key = model_name.split(\"-\")[0]\n",
    "    grades_key = model_key + \"_grades\"\n",
    "    output_key = model_key + \"_output\"\n",
    "\n",
    "    output = {\n",
    "      \"id\": essay_data[\"id\"],\n",
    "      \"essay_text\": essay_data[\"essay_text\"],\n",
    "      \"id_prompt\": essay_data[\"id_prompt\"],\n",
    "      \"grades\": essay_data[\"grades\"],\n",
    "      grades_key: grades,\n",
    "      output_key: response,\n",
    "    }\n",
    "\n",
    "    essays_outputs.append(output)\n",
    "\n",
    "  return essays_outputs"
   ]
  },
  {
   "cell_type": "code",
   "execution_count": 6,
   "id": "b97336cd-cfa0-488a-85bf-c972ca9da42f",
   "metadata": {},
   "outputs": [],
   "source": [
    "def run_experiment(exp, essays_dataset, start, limit, batch, path_to_save, filename_to_save, model_name):\n",
    "  end = start\n",
    "  for ini in range(start, limit-batch, batch):\n",
    "    end = ini + batch\n",
    "\n",
    "    \n",
    "    try:\n",
    "      essays_outputs = run_model(essays_dataset, exp, ini, end, model_name)\n",
    "    except Exception as e:\n",
    "      print(f\"There was an exception on run_experiment!!: {e}\")\n",
    "      time.sleep(1800)\n",
    "      chat = model_setup(model_name)\n",
    "      essays_outputs = run_model(essays_dataset, exp, ini, end, run_model)\n",
    "    \n",
    "\n",
    "    if ini == 0:\n",
    "      create_csv_header(path_to_save, filename_to_save, essays_outputs[0].keys())\n",
    "\n",
    "    save_data(path_to_save, filename_to_save, essays_outputs)\n",
    "\n",
    "    print(\"Processed essays from \" + str(ini) + \" to: \" + str(end))\n",
    "    save_state(end)\n",
    "\n",
    "  print(\"End value is: \", end)\n",
    "  print(\"Limit value is:\", limit)\n",
    "\n",
    "  if limit !=  end:\n",
    "    essays_outputs = run_model(essays_dataset, exp, end, limit, model_name)\n",
    "    save_data(path_to_save, filename_to_save, essays_outputs)\n",
    "    print(\"Processed essays from \" + str(end) + \" to: \" + str(limit))"
   ]
  },
  {
   "cell_type": "markdown",
   "id": "e2350fe5-ce57-405c-b2cb-3b0afbeab8ef",
   "metadata": {},
   "source": [
    "## Setup"
   ]
  },
  {
   "cell_type": "code",
   "execution_count": 7,
   "id": "6e3a744f-9397-44c7-aa5e-959e83b4f917",
   "metadata": {},
   "outputs": [
    {
     "name": "stdout",
     "output_type": "stream",
     "text": [
      "{'Model': '2', 'Database': '2', 'Experimento': '2', 'Execucao': '3', 'MaxExecucao': '5', 'Batch': '10'}\n"
     ]
    }
   ],
   "source": [
    "use_experiment_state = True\n",
    "model_code = -1\n",
    "dataset_code = -1\n",
    "experiment_code = -1\n",
    "execution = 1\n",
    "batch_saved = 0\n",
    "execution_limit = 5\n",
    "\n",
    "if use_experiment_state:\n",
    "\n",
    "  with open(path_to + state_filename, mode='r') as file:\n",
    "    csv_reader = csv.DictReader(file)\n",
    "    for row in csv_reader:\n",
    "        state = row  # Each row is a dictionary\n",
    "\n",
    "  print(state)\n",
    "\n",
    "  model_code = int(state['Model'])\n",
    "  dataset_code = int(state['Database'])\n",
    "  experiment_code = int(state['Experimento'])\n",
    "  execution = int(state['Execucao'])\n",
    "  execution_limit = int(state['MaxExecucao'])\n",
    "  batch_saved = int(state['Batch'])\n"
   ]
  },
  {
   "cell_type": "code",
   "execution_count": 8,
   "id": "38222ea1-5669-4e0a-8fd9-ae91dd856c56",
   "metadata": {},
   "outputs": [
    {
     "name": "stdout",
     "output_type": "stream",
     "text": [
      "Choosen Model: llama-3.2-90b-text-preview\n"
     ]
    }
   ],
   "source": [
    "\"\"\"\n",
    "Setup Model\n",
    "\"\"\"\n",
    "model_name, model_code = choose_model(model_code)\n",
    "chat = model_setup(model_name)"
   ]
  },
  {
   "cell_type": "code",
   "execution_count": 9,
   "id": "e09a8a43-c175-4573-9e55-ba756bfc245e",
   "metadata": {},
   "outputs": [
    {
     "name": "stdout",
     "output_type": "stream",
     "text": [
      "Dataset escolhido: aes_enem_dataset\n"
     ]
    }
   ],
   "source": [
    "\"\"\"\n",
    "Setup Dataset\n",
    "\"\"\"\n",
    "dataset_name, dataset_code = setup_dataset(dataset_code)\n",
    "essays_dataset = getDataset(path_to, dataset_name)"
   ]
  },
  {
   "cell_type": "code",
   "execution_count": 10,
   "id": "58f3dd6b-c278-454b-b62b-9824b73fc844",
   "metadata": {},
   "outputs": [
    {
     "name": "stdout",
     "output_type": "stream",
     "text": [
      "Experimento escolhido: exp2\n",
      "Create exp2\n",
      "Prompt template: \n",
      "Correct the following writing, following the ENEM assessment method, only deliver the quantitative grade between 0 and 200 for each competency and the final grade in the following format: [x, y, z, w, t, x+y+z+w+t]. I don't want text in the answer, just the numerical grades for each competency and the total\n",
      "\n",
      "Theme: <TEMA>\n",
      "Writing: <REDAÇÃO>\n",
      "Saving state: {'Model': 2, 'Database': 2, 'Experimento': 2, 'Execucao': 3, 'MaxExecucao': 5, 'Batch': 10}\n",
      "\n",
      "\n",
      "Execution number: 3\n",
      "\n",
      "\n",
      "Folder './data/results/llama-3.2-90b-text-preview' already exists.\n",
      "Folder './data/results/llama-3.2-90b-text-preview/exp2' already exists.\n",
      "Folder './data/results/llama-3.2-90b-text-preview/exp2/aes_enem_dataset' already exists.\n",
      "CSV with the answer will be saved in: aes_enem_dataset-llama-3.2-90b-text-preview-exp2-3\n",
      "It will evaluated essay with number:10\n",
      "Evaluated essay with number: 10\n",
      "It will evaluated essay with number:11\n",
      "Evaluated essay with number: 11\n",
      "It will evaluated essay with number:12\n",
      "Evaluated essay with number: 12\n",
      "It will evaluated essay with number:13\n",
      "Evaluated essay with number: 13\n",
      "It will evaluated essay with number:14\n",
      "Evaluated essay with number: 14\n",
      "It will evaluated essay with number:15\n",
      "Evaluated essay with number: 15\n",
      "It will evaluated essay with number:16\n",
      "Evaluated essay with number: 16\n",
      "It will evaluated essay with number:17\n",
      "Evaluated essay with number: 17\n",
      "It will evaluated essay with number:18\n",
      "Evaluated essay with number: 18\n",
      "It will evaluated essay with number:19\n",
      "Evaluated essay with number: 19\n",
      "Processed essays from 10 to: 20\n",
      "Saving state: {'Model': 2, 'Database': 2, 'Experimento': 2, 'Execucao': 3, 'MaxExecucao': 5, 'Batch': 20}\n",
      "It will evaluated essay with number:20\n",
      "Evaluated essay with number: 20\n",
      "It will evaluated essay with number:21\n",
      "Evaluated essay with number: 21\n",
      "It will evaluated essay with number:22\n",
      "Demonstração de habilidades de Linguagem (LD): 160\n",
      "Demonstração de habilidades de Conhecimento de Mundo (CM): 140\n",
      "Demonstração de habilidades de Raciocínio Lógico (RL): 120\n",
      "Demonstração de habilidades de Domínio da Língua Portuguesa (DLP): 180\n",
      "Demonstração de habilidades de Ampliação do Conhecimento (AC): 160\n",
      "Total: 760\n",
      "Evaluated essay with number: 22\n",
      "It will evaluated essay with number:23\n",
      "Evaluated essay with number: 23\n",
      "It will evaluated essay with number:24\n",
      "Evaluated essay with number: 24\n",
      "It will evaluated essay with number:25\n",
      "Demonstração de Capacidade de Argumentação: 80\n",
      "Demonstração de Capacidade de Organização: 60\n",
      "Demonstração de Capacidade de Conhecimento do Mundo: 120\n",
      "Demonstração de Capacidade de Especificação de Linguagem: 40\n",
      "Demonstração de Capacidade de Estruturação e Cogência Textual: 100\n",
      "Total: 400\n",
      "Evaluated essay with number: 25\n",
      "It will evaluated essay with number:26\n",
      "Demonstração de habilidades específicas da língua portuguesa: 90 \n",
      "Domínio da norma culta da língua escrita: 110\n",
      "Compreensão e interpretação de textos: 80\n",
      "Estruturação de ideias e argumentação: 120\n",
      "Usos da língua para diferentes contextos e intenções: 100 \n",
      "Total: 500\n",
      "Evaluated essay with number: 26\n",
      "It will evaluated essay with number:27\n",
      "Evaluated essay with number: 27\n",
      "It will evaluated essay with number:28\n",
      "Evaluated essay with number: 28\n",
      "It will evaluated essay with number:29\n",
      "Evaluated essay with number: 29\n",
      "Processed essays from 20 to: 30\n",
      "Saving state: {'Model': 2, 'Database': 2, 'Experimento': 2, 'Execucao': 3, 'MaxExecucao': 5, 'Batch': 30}\n",
      "It will evaluated essay with number:30\n",
      "Demonstração de competência específica de habilidades e linguagem:\n",
      "0\n",
      "Demonstração de habilidade de argumentação e uso da linguagem formal:\n",
      "40\n",
      "Uso de estruturas lógicas e coerentes:\n",
      "80\n",
      "Domínio da norma padrão da língua:\n",
      "100\n",
      "Demonstração de habilidade para compreender e aplicar conceitos e conhecimentos:\n",
      "80\n",
      "Total: 300\n",
      "Evaluated essay with number: 30\n",
      "It will evaluated essay with number:31\n",
      "There was an exception on made question: Error code: 429 - {'error': {'message': 'Rate limit reached for model `llama-3.2-90b-text-preview` in organization `org_01jcrrx836eshv8r1mhyzevhc7` on : Limit 500000, Used 500018, Requested 435. Please try again in 1m18.296799999s. Visit https://console.groq.com/docs/rate-limits for more information.', 'type': '', 'code': 'rate_limit_exceeded'}}\n",
      "Evaluated essay with number: 31\n",
      "It will evaluated essay with number:32\n",
      "There was an exception on made question: Error code: 429 - {'error': {'message': 'Rate limit reached for model `llama-3.2-90b-text-preview` in organization `org_01jcrrx836eshv8r1mhyzevhc7` on : Limit 500000, Used 499892, Requested 540. Please try again in 1m14.579s. Visit https://console.groq.com/docs/rate-limits for more information.', 'type': '', 'code': 'rate_limit_exceeded'}}\n",
      " Competência 1: Demonstração de Domínio da Norma-Padrão: 170\n",
      " Competência 2: Compreensão do Tema e Problematização: 180\n",
      " Competência 3: Seleção de Enunciados e Organização da Estrutura do Texto: 160\n",
      " Competência 4: Conhecimento de Estruturas Lógicas e Argumentativas: 180\n",
      " Competência 5: Demonstração de Posição e Capacidade de Argumentação: 190\n",
      " Nota Final: 880\n",
      "There was an exception on run_experiment!!: Error code: 429 - {'error': {'message': 'Rate limit reached for model `llama-3.2-90b-text-preview` in organization `org_01jcrrx836eshv8r1mhyzevhc7` on : Limit 500000, Used 499884, Requested 540. Please try again in 1m13.2528s. Visit https://console.groq.com/docs/rate-limits for more information.', 'type': '', 'code': 'rate_limit_exceeded'}}\n"
     ]
    },
    {
     "name": "stderr",
     "output_type": "stream",
     "text": [
      "\n",
      "KeyboardInterrupt\n",
      "\n"
     ]
    }
   ],
   "source": [
    "while experiment_code <= 6:\n",
    "  \"\"\"\n",
    "  Setup Experiment\n",
    "  \"\"\"\n",
    "  experiment_name, experiment_code = choose_experiment(experiment_code)\n",
    "  exp = setup_experiment(path_to_experiments, experiment_name)\n",
    "\n",
    "  save_state(batch_saved)\n",
    "\n",
    "  while execution <= execution_limit:\n",
    "    print()\n",
    "    print()\n",
    "    print(\"Execution number: \" + str(execution))\n",
    "    print()\n",
    "    print()\n",
    "\n",
    "    start = batch_saved\n",
    "    path_to_save = create_experiment_folder(path_to, model_name, experiment_name, dataset_name)\n",
    "    filename_to_save = build_filename_to_save(model_name, experiment_name, dataset_name, str(execution))\n",
    "\n",
    "    batch = 10\n",
    "    limit = len(essays_dataset)\n",
    "\n",
    "    run_experiment(exp, essays_dataset, start, limit, batch, path_to_save, filename_to_save, model_name)\n",
    "    batch_saved = 0 # IMPORTANT WHEN MODEL STOP IN THE MIDDLE\n",
    "    execution += 1\n",
    "    save_state()\n",
    "\n",
    "  experiment_code += 1\n",
    "  execution = 0\n",
    "  save_state()\n"
   ]
  },
  {
   "cell_type": "code",
   "execution_count": null,
   "id": "9e20d94e-5b31-4762-ae1d-450a95dfd067",
   "metadata": {},
   "outputs": [],
   "source": [
    "\"\"\"\n",
    "Setup Experiment\n",
    "\"\"\"\n",
    "experiment_name, experiment_code = choose_experiment(experiment_code)\n",
    "exp = setup_experiment(path_to_experiments, experiment_name)"
   ]
  },
  {
   "cell_type": "code",
   "execution_count": null,
   "id": "c32fa487-19f7-4a7d-88e8-2a5ff1e14d34",
   "metadata": {},
   "outputs": [],
   "source": [
    "essay_data = essays_dataset[2]\n",
    "essay = essay_data[\"essay_text\"]\n",
    "prompt = essay_data[\"id_prompt\"].replace(\"-\", \" \")\n",
    "prompt = exp.build_prompt(essay, prompt)\n",
    "\n",
    "model_prompt = exp.build_prompt(essay, prompt)"
   ]
  },
  {
   "cell_type": "code",
   "execution_count": null,
   "id": "5f03b019-b162-48cb-a75e-63a9a1729c77",
   "metadata": {},
   "outputs": [],
   "source": [
    "grades, response = made_question(model_name, chat, model_prompt)"
   ]
  },
  {
   "cell_type": "code",
   "execution_count": null,
   "id": "cc90b5b5-f66a-4f84-b735-0d5149e46ee5",
   "metadata": {},
   "outputs": [],
   "source": [
    "print"
   ]
  },
  {
   "cell_type": "code",
   "execution_count": null,
   "id": "307853fc-1f65-4267-bec5-574db7f235f7",
   "metadata": {},
   "outputs": [],
   "source": []
  }
 ],
 "metadata": {
  "kernelspec": {
   "display_name": "Python 3 (ipykernel)",
   "language": "python",
   "name": "python3"
  },
  "language_info": {
   "codemirror_mode": {
    "name": "ipython",
    "version": 3
   },
   "file_extension": ".py",
   "mimetype": "text/x-python",
   "name": "python",
   "nbconvert_exporter": "python",
   "pygments_lexer": "ipython3",
   "version": "3.10.12"
  }
 },
 "nbformat": 4,
 "nbformat_minor": 5
}
