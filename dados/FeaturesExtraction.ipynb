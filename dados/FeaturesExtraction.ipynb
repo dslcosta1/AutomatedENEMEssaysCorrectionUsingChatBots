{
 "cells": [
  {
   "cell_type": "code",
   "execution_count": 22,
   "id": "07548b84-63a3-477b-b981-9f1bfaad8a25",
   "metadata": {},
   "outputs": [],
   "source": [
    "from utils.nilc_nlp import *\n",
    "from utils import dataset_setup\n",
    "from utils.save_results import *"
   ]
  },
  {
   "cell_type": "code",
   "execution_count": 16,
   "id": "c4750cec-e88f-431b-9e90-b853147bc1af",
   "metadata": {},
   "outputs": [],
   "source": [
    "path_to = './'"
   ]
  },
  {
   "cell_type": "code",
   "execution_count": 17,
   "id": "89334d23-dc9e-483e-a853-83b7a4916c15",
   "metadata": {},
   "outputs": [
    {
     "name": "stdout",
     "output_type": "stream",
     "text": [
      "ATENCAO - Escolha o dataset:\n",
      "1 - essaysFullGrade\n",
      "2 - aes_enem_dataset\n",
      "3 - propor2024\n",
      "4 - extended2024\n",
      "5 - extended_complete\n",
      "6 - Outro\n"
     ]
    },
    {
     "name": "stdin",
     "output_type": "stream",
     "text": [
      "Coloque o número do dataset que gostaria de executar:  1\n"
     ]
    },
    {
     "name": "stdout",
     "output_type": "stream",
     "text": [
      "Dataset escolhido: essaysFullGrade\n"
     ]
    }
   ],
   "source": [
    "\"\"\"\n",
    "Setup Dataset\n",
    "\"\"\"\n",
    "dataset_name, dataset_code = dataset_setup.setup_dataset()\n",
    "essays_dataset = dataset_setup.getDataset(path_to, dataset_name)"
   ]
  },
  {
   "cell_type": "code",
   "execution_count": 18,
   "id": "06e94ee4-15eb-43fa-a3fa-bc214163aebc",
   "metadata": {},
   "outputs": [],
   "source": [
    "model_name = \"nilc_metrix\"\n",
    "experiment_name = \"exp0\""
   ]
  },
  {
   "cell_type": "code",
   "execution_count": 19,
   "id": "26f1208b-29b2-4082-9da1-524717f97655",
   "metadata": {},
   "outputs": [
    {
     "name": "stdout",
     "output_type": "stream",
     "text": [
      "Folder './results/nilc_metrix' already exists.\n",
      "Folder './results/nilc_metrix/exp0' already exists.\n",
      "Folder './results/nilc_metrix/exp0/essaysFullGrade' already exists.\n",
      "CSV with the answer will be saved in: essaysFullGrade-nilc_metrix-exp0-0\n"
     ]
    }
   ],
   "source": [
    "path_to_save = create_experiment_folder(path_to, model_name, experiment_name, dataset_name)\n",
    "filename_to_save = build_filename_to_save(model_name, experiment_name, dataset_name, \"0\")"
   ]
  },
  {
   "cell_type": "code",
   "execution_count": 20,
   "id": "2d93fe2f-f983-445e-8c5e-6ab2a0c1cdca",
   "metadata": {},
   "outputs": [
    {
     "data": {
      "text/plain": [
       "179"
      ]
     },
     "execution_count": 20,
     "metadata": {},
     "output_type": "execute_result"
    }
   ],
   "source": [
    "len(essays_dataset)"
   ]
  },
  {
   "cell_type": "code",
   "execution_count": null,
   "id": "28c934bd-5534-4961-8d30-59c906a0c147",
   "metadata": {},
   "outputs": [],
   "source": [
    "start = 0\n",
    "for i in range(start, len(essays_dataset)):\n",
    "    essay_data = essays_dataset[i]\n",
    "    essay_text = essay_data[\"essay_text\"]\n",
    "\n",
    "    raw_output = run_text_metrics_docker(essay_text)\n",
    "    metrics_dict = parse_metrics_output(raw_output)\n",
    "\n",
    "    essay_data.update(metrics_dict)\n",
    "\n",
    "    if (i == 0) :\n",
    "        create_csv_header(path_to_save, filename_to_save, essay_data.keys())\n",
    "\n",
    "    save_data(path_to_save, filename_to_save, [essay_data])\n",
    "\n",
    "    print(\"Evaluated essay: \" + str(i))"
   ]
  },
  {
   "cell_type": "code",
   "execution_count": 3,
   "id": "baee7bcb-1aa8-4845-8a12-432a94dab60f",
   "metadata": {},
   "outputs": [
    {
     "name": "stdout",
     "output_type": "stream",
     "text": [
      "{'adjective_ratio': '0.0', 'adverbs': '0.0', 'content_words': '0.5625', 'flesch': '63.395', 'function_words': '0.4375', 'sentences_per_paragraph': '1.0', 'syllables_per_content_word': '2.44444', 'words_per_sentence': '16.0', 'noun_ratio': '0.3125', 'paragraphs': '1', 'sentences': '1', 'words': '16', 'pronoun_ratio': '0.0', 'verbs': '0.25', 'logic_operators': '0.0', 'and_ratio': '0.0', 'if_ratio': '0.0', 'or_ratio': '0.0', 'negation_ratio': '0.0', 'cw_freq': '1657.11111', 'cw_freq_brwac': '2.93267', 'cw_freq_bra': '3.06656', 'min_cw_freq': '18.0', 'min_cw_freq_brwac': '0.0', 'min_freq_brwac': '0.0', 'min_cw_freq_bra': '1.29', 'min_freq_bra': '1.29', 'freq_brwac': '4.45619', 'freq_bra': '4.5185', 'hypernyms_verbs': '1.0', 'brunet': '6.01226', 'honore': '842.88399', 'personal_pronouns': '0.0', 'ttr': '0.875', 'conn_ratio': '0.125', 'add_neg_conn_ratio': '0.0', 'add_pos_conn_ratio': '0.0', 'cau_neg_conn_ratio': '0.0', 'cau_pos_conn_ratio': '0.0', 'log_neg_conn_ratio': '0.0', 'log_pos_conn_ratio': '0.0', 'tmp_neg_conn_ratio': '0.0', 'tmp_pos_conn_ratio': '0.125', 'adjectives_ambiguity': '0', 'adverbs_ambiguity': '0', 'nouns_ambiguity': '1.0', 'verbs_ambiguity': '4.5', 'yngve': '1.94444', 'frazier': '7.0', 'dep_distance': '21.0', 'cross_entropy': '0.81966', 'content_density': '1.28571', 'adjacent_refs': '0', 'anaphoric_refs': '0', 'adj_arg_ovl': '0', 'arg_ovl': '0', 'adj_stem_ovl': '0', 'stem_ovl': '0', 'adj_cw_ovl': '0', 'lsa_adj_mean': '0', 'lsa_adj_std': '0', 'lsa_all_mean': '0', 'lsa_all_std': '0', 'lsa_paragraph_mean': '0', 'lsa_paragraph_std': '0', 'lsa_givenness_mean': '0', 'lsa_givenness_std': '0', 'lsa_span_mean': '0', 'lsa_span_std': '0', 'negative_words': '0.11111', 'positive_words': '0.55556', 'ratio_function_to_content_words': '0.77778'}\n"
     ]
    }
   ],
   "source": [
    "\n",
    "# Example usage\n",
    "raw_output = run_text_metrics_docker(\"Batatinha quando nasce espalha a rama pelo chao, menininha quando dorme, pro a mao no coracao\")\n",
    "metrics_dict = parse_metrics_output(raw_output)\n",
    "print(metrics_dict)\n"
   ]
  },
  {
   "cell_type": "code",
   "execution_count": null,
   "id": "dddd4c4e-0201-4f14-9dc1-308b9e42819b",
   "metadata": {},
   "outputs": [],
   "source": []
  }
 ],
 "metadata": {
  "kernelspec": {
   "display_name": "Python 3 (ipykernel)",
   "language": "python",
   "name": "python3"
  },
  "language_info": {
   "codemirror_mode": {
    "name": "ipython",
    "version": 3
   },
   "file_extension": ".py",
   "mimetype": "text/x-python",
   "name": "python",
   "nbconvert_exporter": "python",
   "pygments_lexer": "ipython3",
   "version": "3.10.12"
  }
 },
 "nbformat": 4,
 "nbformat_minor": 5
}
