{
 "cells": [
  {
   "cell_type": "code",
   "execution_count": 1,
   "id": "259c284b-c84c-43b9-96a9-d6c6410f3525",
   "metadata": {},
   "outputs": [],
   "source": [
    "import sys\n",
    "sys.path.append(\"./\")"
   ]
  },
  {
   "cell_type": "code",
   "execution_count": 2,
   "id": "ee3628f8-5b18-4b83-96b9-02e623a02b79",
   "metadata": {},
   "outputs": [],
   "source": [
    "from utils.model_setup import *\n",
    "from utils.dataset_setup import *\n",
    "from utils.experiment_setup import *\n",
    "from utils.save_results import *"
   ]
  },
  {
   "cell_type": "code",
   "execution_count": 3,
   "id": "6029f73e-44e7-4ede-a72d-e14d77ede525",
   "metadata": {},
   "outputs": [],
   "source": [
    "path_to = \"./data/\"\n",
    "path_to_experiments = \"./experiments/\""
   ]
  },
  {
   "cell_type": "markdown",
   "id": "b61809f3-5a27-4434-84b1-4d0ff4f9d3bb",
   "metadata": {},
   "source": [
    "## Excuting experiments"
   ]
  },
  {
   "cell_type": "code",
   "execution_count": 4,
   "id": "1271dc6a-b3af-4eca-bc6e-e6bbe072163f",
   "metadata": {},
   "outputs": [],
   "source": [
    "def save_state(batch_saved=0):\n",
    "  state = {\n",
    "    'Model': model_code,\n",
    "    'Database': dataset_code,\n",
    "    'Experimento': experiment_code,\n",
    "    'Execucao': execution,\n",
    "    'MaxExecucao': execution_limit,\n",
    "    'Batch': batch_saved\n",
    "  }\n",
    "  with open(path_to + 'EstadoExperimentosChat.csv', mode='w') as file:\n",
    "    print(\"Saving state: \" + str(state))\n",
    "    writer = csv.DictWriter(file, fieldnames=state.keys())\n",
    "    writer.writeheader()\n",
    "    writer.writerow(state)"
   ]
  },
  {
   "cell_type": "code",
   "execution_count": 5,
   "id": "359d943d-2883-4ef8-b7a7-3ce47093fd06",
   "metadata": {},
   "outputs": [],
   "source": [
    "def run_model(essays_dataset, exp, ini, end, model_name):\n",
    "  essays_outputs = []\n",
    "\n",
    "  for i in range(ini, end):\n",
    "    if i == 34 and dataset_name == (\"essaysGrade1000\"):\n",
    "      print(\"Skipping essay number: \" + str(i))\n",
    "      continue\n",
    "\n",
    "    if (i == 101 or i == 131 or i == 143) and dataset_name == (\"extended2024\"):\n",
    "      print(\"Skipping essay number: \" + str(i))\n",
    "      continue\n",
    "\n",
    "    if (i == 97 or i == 98 or i == 112) and dataset_name == (\"propor2024\"):\n",
    "      print(\"Skipping essay number: \" + str(i))\n",
    "      continue\n",
    "\n",
    "    essay_data = essays_dataset[i]\n",
    "    essay = essay_data[\"essay_text\"]\n",
    "    prompt = essay_data[\"id_prompt\"].replace(\"-\", \" \")\n",
    "    print(\"It will evaluated essay with number:\" + str(i))\n",
    "    prompt = exp.build_prompt(essay, prompt)\n",
    "    grades, response = made_question(model_name, chat, prompt)\n",
    "\n",
    "    print(\"Evaluated essay with number: \" + str(i))\n",
    "\n",
    "    model_key = model_name.split(\"-\")[0]\n",
    "    grades_key = model_key + \"_grades\"\n",
    "    output_key = model_key + \"_output\"\n",
    "\n",
    "    output = {\n",
    "      \"id\": essay_data[\"id\"],\n",
    "      \"essay_text\": essay_data[\"essay_text\"],\n",
    "      \"id_prompt\": essay_data[\"id_prompt\"],\n",
    "      \"grades\": essay_data[\"grades\"],\n",
    "      grades_key: grades,\n",
    "      output_key: response,\n",
    "    }\n",
    "\n",
    "    essays_outputs.append(output)\n",
    "\n",
    "  return essays_outputs"
   ]
  },
  {
   "cell_type": "code",
   "execution_count": 6,
   "id": "b97336cd-cfa0-488a-85bf-c972ca9da42f",
   "metadata": {},
   "outputs": [],
   "source": [
    "def run_experiment(exp, essays_dataset, start, limit, batch, path_to_save, filename_to_save, model_name):\n",
    "  end = start\n",
    "  for ini in range(start, limit-batch, batch):\n",
    "    end = ini + batch\n",
    "\n",
    "    \n",
    "    try:\n",
    "      essays_outputs = run_model(essays_dataset, exp, ini, end, model_name)\n",
    "    except Exception as e:\n",
    "      print(f\"There was an exception on run_experiment!!: {e}\")\n",
    "      time.sleep(180)\n",
    "      chat = model_setup(model_name)\n",
    "      essays_outputs = run_model(essays_dataset, exp, ini, end, run_model)\n",
    "    \n",
    "\n",
    "    if ini == 0:\n",
    "      create_csv_header(path_to_save, filename_to_save, essays_outputs[0].keys())\n",
    "\n",
    "    save_data(path_to_save, filename_to_save, essays_outputs)\n",
    "\n",
    "    print(\"Processed essays from \" + str(ini) + \" to: \" + str(end))\n",
    "    save_state(end)\n",
    "\n",
    "  print(\"End value is: \", end)\n",
    "  print(\"Limit value is:\", limit)\n",
    "\n",
    "  if limit !=  end:\n",
    "    essays_outputs = run_model(essays_dataset, exp, end, limit, model_name)\n",
    "    save_data(path_to_save, filename_to_save, essays_outputs)\n",
    "    print(\"Processed essays from \" + str(end) + \" to: \" + str(limit))"
   ]
  },
  {
   "cell_type": "markdown",
   "id": "e2350fe5-ce57-405c-b2cb-3b0afbeab8ef",
   "metadata": {},
   "source": [
    "## Setup"
   ]
  },
  {
   "cell_type": "code",
   "execution_count": 7,
   "id": "6e3a744f-9397-44c7-aa5e-959e83b4f917",
   "metadata": {},
   "outputs": [
    {
     "name": "stdout",
     "output_type": "stream",
     "text": [
      "{'Model': '2', 'Database': '2', 'Experimento': '1', 'Execucao': '4', 'MaxExecucao': '5', 'Batch': '100'}\n"
     ]
    }
   ],
   "source": [
    "use_experiment_state = True\n",
    "model_code = -1\n",
    "dataset_code = -1\n",
    "experiment_code = -1\n",
    "execution = 1\n",
    "batch_saved = 0\n",
    "execution_limit = 5\n",
    "\n",
    "if use_experiment_state:\n",
    "\n",
    "  with open(path_to + 'EstadoExperimentosChat.csv', mode='r') as file:\n",
    "    csv_reader = csv.DictReader(file)\n",
    "    for row in csv_reader:\n",
    "        state = row  # Each row is a dictionary\n",
    "\n",
    "  print(state)\n",
    "\n",
    "  model_code = int(state['Model'])\n",
    "  dataset_code = int(state['Database'])\n",
    "  experiment_code = int(state['Experimento'])\n",
    "  execution = int(state['Execucao'])\n",
    "  execution_limit = int(state['MaxExecucao'])\n",
    "  batch_saved = int(state['Batch'])\n"
   ]
  },
  {
   "cell_type": "code",
   "execution_count": 8,
   "id": "38222ea1-5669-4e0a-8fd9-ae91dd856c56",
   "metadata": {},
   "outputs": [
    {
     "name": "stdout",
     "output_type": "stream",
     "text": [
      "Choosen Model: llama-3.2-90b-text-preview\n"
     ]
    }
   ],
   "source": [
    "\"\"\"\n",
    "Setup Model\n",
    "\"\"\"\n",
    "model_name, model_code = choose_model(model_code)\n",
    "chat = model_setup(model_name)"
   ]
  },
  {
   "cell_type": "code",
   "execution_count": 9,
   "id": "e09a8a43-c175-4573-9e55-ba756bfc245e",
   "metadata": {},
   "outputs": [
    {
     "name": "stdout",
     "output_type": "stream",
     "text": [
      "Dataset escolhido: aes_enem_dataset\n"
     ]
    }
   ],
   "source": [
    "\"\"\"\n",
    "Setup Dataset\n",
    "\"\"\"\n",
    "dataset_name, dataset_code = setup_dataset(dataset_code)\n",
    "essays_dataset = getDataset(path_to, dataset_name)"
   ]
  },
  {
   "cell_type": "code",
   "execution_count": 10,
   "id": "58f3dd6b-c278-454b-b62b-9824b73fc844",
   "metadata": {},
   "outputs": [
    {
     "name": "stdout",
     "output_type": "stream",
     "text": [
      "Experimento escolhido: exp1\n",
      "Create exp1\n",
      "Prompt template: \n",
      "Corrija a seguinte redação, seguindo o método de avaliação do ENEM, entregue apenas a nota quantitativa entre 0 e 200 para cada competência e a nota final no seguinte formato: [x, y, z, w, t, x+y+z+w+t]. Não quero texto na resposta, apenas as notas numéricas para cada competência e o total \n",
      "\n",
      "Tema:<TEMA> \n",
      "Redação: <REDAÇÃO>\n",
      "Saving state: {'Model': 2, 'Database': 2, 'Experimento': 1, 'Execucao': 4, 'MaxExecucao': 5, 'Batch': 100}\n",
      "\n",
      "\n",
      "Execution number: 4\n",
      "\n",
      "\n",
      "Folder './data/results/llama-3.2-90b-text-preview' already exists.\n",
      "Folder './data/results/llama-3.2-90b-text-preview/exp1' already exists.\n",
      "Folder './data/results/llama-3.2-90b-text-preview/exp1/aes_enem_dataset' already exists.\n",
      "CSV with the answer will be saved in: aes_enem_dataset-llama-3.2-90b-text-preview-exp1-4\n",
      "It will evaluated essay with number:100\n",
      "Testing if it is arriving here!!\n",
      "Evaluated essay with number: 100\n",
      "It will evaluated essay with number:101\n",
      "Testing if it is arriving here!!\n",
      "Evaluated essay with number: 101\n",
      "It will evaluated essay with number:102\n",
      "Testing if it is arriving here!!\n",
      "Evaluated essay with number: 102\n",
      "It will evaluated essay with number:103\n",
      "Testing if it is arriving here!!\n",
      "There was an exception on made question: Error code: 429 - {'error': {'message': 'Rate limit reached for model `llama-3.2-90b-text-preview` in organization `org_01jcrrx836eshv8r1mhyzevhc7` on : Limit 500000, Used 499874, Requested 710. Please try again in 1m40.8074s. Visit https://console.groq.com/docs/rate-limits for more information.', 'type': '', 'code': 'rate_limit_exceeded'}}\n",
      "Evaluated essay with number: 103\n",
      "It will evaluated essay with number:104\n",
      "Testing if it is arriving here!!\n",
      "There was an exception on made question: Error code: 429 - {'error': {'message': 'Rate limit reached for model `llama-3.2-90b-text-preview` in organization `org_01jcrrx836eshv8r1mhyzevhc7` on : Limit 500000, Used 499933, Requested 423. Please try again in 1m1.443999999s. Visit https://console.groq.com/docs/rate-limits for more information.', 'type': '', 'code': 'rate_limit_exceeded'}}\n",
      "Evaluated essay with number: 104\n",
      "It will evaluated essay with number:105\n",
      "Testing if it is arriving here!!\n",
      "Evaluated essay with number: 105\n",
      "It will evaluated essay with number:106\n",
      "Testing if it is arriving here!!\n",
      "There was an exception on made question: Error code: 429 - {'error': {'message': 'Rate limit reached for model `llama-3.2-90b-text-preview` in organization `org_01jcrrx836eshv8r1mhyzevhc7` on : Limit 500000, Used 500024, Requested 611. Please try again in 1m49.813s. Visit https://console.groq.com/docs/rate-limits for more information.', 'type': '', 'code': 'rate_limit_exceeded'}}\n",
      "Evaluated essay with number: 106\n",
      "It will evaluated essay with number:107\n",
      "Testing if it is arriving here!!\n",
      "There was an exception on made question: Error code: 429 - {'error': {'message': 'Rate limit reached for model `llama-3.2-90b-text-preview` in organization `org_01jcrrx836eshv8r1mhyzevhc7` on : Limit 500000, Used 499949, Requested 471. Please try again in 1m12.4942s. Visit https://console.groq.com/docs/rate-limits for more information.', 'type': '', 'code': 'rate_limit_exceeded'}}\n",
      "Evaluated essay with number: 107\n",
      "It will evaluated essay with number:108\n",
      "Testing if it is arriving here!!\n",
      "Evaluated essay with number: 108\n",
      "It will evaluated essay with number:109\n",
      "Testing if it is arriving here!!\n",
      "Evaluated essay with number: 109\n",
      "Processed essays from 100 to: 110\n",
      "Saving state: {'Model': 2, 'Database': 2, 'Experimento': 1, 'Execucao': 4, 'MaxExecucao': 5, 'Batch': 110}\n",
      "It will evaluated essay with number:110\n",
      "Testing if it is arriving here!!\n",
      "There was an exception on made question: Error code: 429 - {'error': {'message': 'Rate limit reached for model `llama-3.2-90b-text-preview` in organization `org_01jcrrx836eshv8r1mhyzevhc7` on : Limit 500000, Used 500013, Requested 504. Please try again in 1m29.491599999s. Visit https://console.groq.com/docs/rate-limits for more information.', 'type': '', 'code': 'rate_limit_exceeded'}}\n",
      "Evaluated essay with number: 110\n",
      "It will evaluated essay with number:111\n",
      "Testing if it is arriving here!!\n",
      "Evaluated essay with number: 111\n",
      "It will evaluated essay with number:112\n",
      "Testing if it is arriving here!!\n",
      "There was an exception on made question: Error code: 429 - {'error': {'message': 'Rate limit reached for model `llama-3.2-90b-text-preview` in organization `org_01jcrrx836eshv8r1mhyzevhc7` on : Limit 500000, Used 500132, Requested 324. Please try again in 1m18.8958s. Visit https://console.groq.com/docs/rate-limits for more information.', 'type': '', 'code': 'rate_limit_exceeded'}}\n",
      "Evaluated essay with number: 112\n",
      "It will evaluated essay with number:113\n",
      "Testing if it is arriving here!!\n",
      "Evaluated essay with number: 113\n",
      "It will evaluated essay with number:114\n",
      "Testing if it is arriving here!!\n",
      "Evaluated essay with number: 114\n",
      "It will evaluated essay with number:115\n",
      "Testing if it is arriving here!!\n",
      "There was an exception on made question: Error code: 429 - {'error': {'message': 'Rate limit reached for model `llama-3.2-90b-text-preview` in organization `org_01jcrrx836eshv8r1mhyzevhc7` on : Limit 500000, Used 500084, Requested 615. Please try again in 2m0.826s. Visit https://console.groq.com/docs/rate-limits for more information.', 'type': '', 'code': 'rate_limit_exceeded'}}\n",
      "Evaluated essay with number: 115\n",
      "It will evaluated essay with number:116\n",
      "Testing if it is arriving here!!\n",
      "There was an exception on made question: Error code: 429 - {'error': {'message': 'Rate limit reached for model `llama-3.2-90b-text-preview` in organization `org_01jcrrx836eshv8r1mhyzevhc7` on : Limit 500000, Used 500092, Requested 433. Please try again in 1m30.802s. Visit https://console.groq.com/docs/rate-limits for more information.', 'type': '', 'code': 'rate_limit_exceeded'}}\n",
      "Demonstração da Linguagem (DL): 140\n",
      "Crítica à Linguagem (CL): 120\n",
      "Organização (OR): 160\n",
      "Argumentação (AR): 180\n",
      "Intertextualidade (IT): 100\n",
      "Total: 700\n",
      "There was an exception on run_experiment!!: Error code: 429 - {'error': {'message': 'Rate limit reached for model `llama-3.2-90b-text-preview` in organization `org_01jcrrx836eshv8r1mhyzevhc7` on : Limit 500000, Used 499936, Requested 433. Please try again in 1m3.72s. Visit https://console.groq.com/docs/rate-limits for more information.', 'type': '', 'code': 'rate_limit_exceeded'}}\n",
      "It will evaluated essay with number:110\n",
      "Testing if it is arriving here!!\n"
     ]
    },
    {
     "ename": "KeyError",
     "evalue": "<function run_model at 0x7f6c3d834af0>",
     "output_type": "error",
     "traceback": [
      "\u001b[0;31m---------------------------------------------------------------------------\u001b[0m",
      "\u001b[0;31mRateLimitError\u001b[0m                            Traceback (most recent call last)",
      "Cell \u001b[0;32mIn[6], line 8\u001b[0m, in \u001b[0;36mrun_experiment\u001b[0;34m(exp, essays_dataset, start, limit, batch, path_to_save, filename_to_save, model_name)\u001b[0m\n\u001b[1;32m      7\u001b[0m \u001b[38;5;28;01mtry\u001b[39;00m:\n\u001b[0;32m----> 8\u001b[0m   essays_outputs \u001b[38;5;241m=\u001b[39m \u001b[43mrun_model\u001b[49m\u001b[43m(\u001b[49m\u001b[43messays_dataset\u001b[49m\u001b[43m,\u001b[49m\u001b[43m \u001b[49m\u001b[43mexp\u001b[49m\u001b[43m,\u001b[49m\u001b[43m \u001b[49m\u001b[43mini\u001b[49m\u001b[43m,\u001b[49m\u001b[43m \u001b[49m\u001b[43mend\u001b[49m\u001b[43m,\u001b[49m\u001b[43m \u001b[49m\u001b[43mmodel_name\u001b[49m\u001b[43m)\u001b[49m\n\u001b[1;32m      9\u001b[0m \u001b[38;5;28;01mexcept\u001b[39;00m \u001b[38;5;167;01mException\u001b[39;00m \u001b[38;5;28;01mas\u001b[39;00m e:\n",
      "Cell \u001b[0;32mIn[5], line 22\u001b[0m, in \u001b[0;36mrun_model\u001b[0;34m(essays_dataset, exp, ini, end, model_name)\u001b[0m\n\u001b[1;32m     21\u001b[0m prompt \u001b[38;5;241m=\u001b[39m exp\u001b[38;5;241m.\u001b[39mbuild_prompt(essay, prompt)\n\u001b[0;32m---> 22\u001b[0m grades, response \u001b[38;5;241m=\u001b[39m \u001b[43mmade_question\u001b[49m\u001b[43m(\u001b[49m\u001b[43mmodel_name\u001b[49m\u001b[43m,\u001b[49m\u001b[43m \u001b[49m\u001b[43mchat\u001b[49m\u001b[43m,\u001b[49m\u001b[43m \u001b[49m\u001b[43mprompt\u001b[49m\u001b[43m)\u001b[49m\n\u001b[1;32m     24\u001b[0m \u001b[38;5;28mprint\u001b[39m(\u001b[38;5;124m\"\u001b[39m\u001b[38;5;124mEvaluated essay with number: \u001b[39m\u001b[38;5;124m\"\u001b[39m \u001b[38;5;241m+\u001b[39m \u001b[38;5;28mstr\u001b[39m(i))\n",
      "File \u001b[0;32m~/Documents/IME/9sem/tcc/AutomatedENEMEssaysCorrectionUsingChatBots/utils/model_setup.py:85\u001b[0m, in \u001b[0;36mmade_question\u001b[0;34m(model_name, chat, prompt)\u001b[0m\n\u001b[1;32m     84\u001b[0m \u001b[38;5;28mprint\u001b[39m(response)\n\u001b[0;32m---> 85\u001b[0m full_response, response \u001b[38;5;241m=\u001b[39m \u001b[43mmake_especific_model_question\u001b[49m\u001b[43m(\u001b[49m\u001b[43mmodel_name\u001b[49m\u001b[43m,\u001b[49m\u001b[43m \u001b[49m\u001b[43mchat\u001b[49m\u001b[43m,\u001b[49m\u001b[43m \u001b[49m\u001b[43mprompt\u001b[49m\u001b[43m)\u001b[49m\n\u001b[1;32m     86\u001b[0m match \u001b[38;5;241m=\u001b[39m re\u001b[38;5;241m.\u001b[39msearch(pattern, response)\n",
      "File \u001b[0;32m~/Documents/IME/9sem/tcc/AutomatedENEMEssaysCorrectionUsingChatBots/utils/model_setup.py:98\u001b[0m, in \u001b[0;36mmake_especific_model_question\u001b[0;34m(model_name, chat, prompt)\u001b[0m\n\u001b[1;32m     97\u001b[0m \u001b[38;5;28;01melif\u001b[39;00m model_name \u001b[38;5;241m==\u001b[39m LLAMA_32_90B_TEXT_PREVIEW:\n\u001b[0;32m---> 98\u001b[0m     completion \u001b[38;5;241m=\u001b[39m \u001b[43mchat\u001b[49m\u001b[38;5;241;43m.\u001b[39;49m\u001b[43mchat\u001b[49m\u001b[38;5;241;43m.\u001b[39;49m\u001b[43mcompletions\u001b[49m\u001b[38;5;241;43m.\u001b[39;49m\u001b[43mcreate\u001b[49m\u001b[43m(\u001b[49m\n\u001b[1;32m     99\u001b[0m \u001b[43m        \u001b[49m\u001b[43mmodel\u001b[49m\u001b[38;5;241;43m=\u001b[39;49m\u001b[43mLLAMA_32_90B_TEXT_PREVIEW\u001b[49m\u001b[43m,\u001b[49m\n\u001b[1;32m    100\u001b[0m \u001b[43m        \u001b[49m\u001b[43mmessages\u001b[49m\u001b[38;5;241;43m=\u001b[39;49m\u001b[43m[\u001b[49m\u001b[43m{\u001b[49m\n\u001b[1;32m    101\u001b[0m \u001b[43m            \u001b[49m\u001b[38;5;124;43m\"\u001b[39;49m\u001b[38;5;124;43mrole\u001b[39;49m\u001b[38;5;124;43m\"\u001b[39;49m\u001b[43m:\u001b[49m\u001b[43m \u001b[49m\u001b[38;5;124;43m\"\u001b[39;49m\u001b[38;5;124;43muser\u001b[39;49m\u001b[38;5;124;43m\"\u001b[39;49m\u001b[43m,\u001b[49m\n\u001b[1;32m    102\u001b[0m \u001b[43m            \u001b[49m\u001b[38;5;124;43m\"\u001b[39;49m\u001b[38;5;124;43mcontent\u001b[39;49m\u001b[38;5;124;43m\"\u001b[39;49m\u001b[43m:\u001b[49m\u001b[43m \u001b[49m\u001b[43mprompt\u001b[49m\n\u001b[1;32m    103\u001b[0m \u001b[43m        \u001b[49m\u001b[43m}\u001b[49m\u001b[43m]\u001b[49m\u001b[43m,\u001b[49m\n\u001b[1;32m    104\u001b[0m \u001b[43m    \u001b[49m\u001b[43m)\u001b[49m\n\u001b[1;32m    106\u001b[0m     full_response_obj \u001b[38;5;241m=\u001b[39m completion\u001b[38;5;241m.\u001b[39mchoices[\u001b[38;5;241m0\u001b[39m]\u001b[38;5;241m.\u001b[39mmessage\n",
      "File \u001b[0;32m~/.local/lib/python3.10/site-packages/groq/resources/chat/completions.py:298\u001b[0m, in \u001b[0;36mCompletions.create\u001b[0;34m(self, messages, model, frequency_penalty, function_call, functions, logit_bias, logprobs, max_tokens, n, parallel_tool_calls, presence_penalty, response_format, seed, stop, stream, temperature, tool_choice, tools, top_logprobs, top_p, user, extra_headers, extra_query, extra_body, timeout)\u001b[0m\n\u001b[1;32m    188\u001b[0m \u001b[38;5;250m\u001b[39m\u001b[38;5;124;03m\"\"\"\u001b[39;00m\n\u001b[1;32m    189\u001b[0m \u001b[38;5;124;03mCreates a model response for the given chat conversation.\u001b[39;00m\n\u001b[1;32m    190\u001b[0m \n\u001b[0;32m   (...)\u001b[0m\n\u001b[1;32m    296\u001b[0m \u001b[38;5;124;03m  timeout: Override the client-level default timeout for this request, in seconds\u001b[39;00m\n\u001b[1;32m    297\u001b[0m \u001b[38;5;124;03m\"\"\"\u001b[39;00m\n\u001b[0;32m--> 298\u001b[0m \u001b[38;5;28;01mreturn\u001b[39;00m \u001b[38;5;28;43mself\u001b[39;49m\u001b[38;5;241;43m.\u001b[39;49m\u001b[43m_post\u001b[49m\u001b[43m(\u001b[49m\n\u001b[1;32m    299\u001b[0m \u001b[43m    \u001b[49m\u001b[38;5;124;43m\"\u001b[39;49m\u001b[38;5;124;43m/openai/v1/chat/completions\u001b[39;49m\u001b[38;5;124;43m\"\u001b[39;49m\u001b[43m,\u001b[49m\n\u001b[1;32m    300\u001b[0m \u001b[43m    \u001b[49m\u001b[43mbody\u001b[49m\u001b[38;5;241;43m=\u001b[39;49m\u001b[43mmaybe_transform\u001b[49m\u001b[43m(\u001b[49m\n\u001b[1;32m    301\u001b[0m \u001b[43m        \u001b[49m\u001b[43m{\u001b[49m\n\u001b[1;32m    302\u001b[0m \u001b[43m            \u001b[49m\u001b[38;5;124;43m\"\u001b[39;49m\u001b[38;5;124;43mmessages\u001b[39;49m\u001b[38;5;124;43m\"\u001b[39;49m\u001b[43m:\u001b[49m\u001b[43m \u001b[49m\u001b[43mmessages\u001b[49m\u001b[43m,\u001b[49m\n\u001b[1;32m    303\u001b[0m \u001b[43m            \u001b[49m\u001b[38;5;124;43m\"\u001b[39;49m\u001b[38;5;124;43mmodel\u001b[39;49m\u001b[38;5;124;43m\"\u001b[39;49m\u001b[43m:\u001b[49m\u001b[43m \u001b[49m\u001b[43mmodel\u001b[49m\u001b[43m,\u001b[49m\n\u001b[1;32m    304\u001b[0m \u001b[43m            \u001b[49m\u001b[38;5;124;43m\"\u001b[39;49m\u001b[38;5;124;43mfrequency_penalty\u001b[39;49m\u001b[38;5;124;43m\"\u001b[39;49m\u001b[43m:\u001b[49m\u001b[43m \u001b[49m\u001b[43mfrequency_penalty\u001b[49m\u001b[43m,\u001b[49m\n\u001b[1;32m    305\u001b[0m \u001b[43m            \u001b[49m\u001b[38;5;124;43m\"\u001b[39;49m\u001b[38;5;124;43mfunction_call\u001b[39;49m\u001b[38;5;124;43m\"\u001b[39;49m\u001b[43m:\u001b[49m\u001b[43m \u001b[49m\u001b[43mfunction_call\u001b[49m\u001b[43m,\u001b[49m\n\u001b[1;32m    306\u001b[0m \u001b[43m            \u001b[49m\u001b[38;5;124;43m\"\u001b[39;49m\u001b[38;5;124;43mfunctions\u001b[39;49m\u001b[38;5;124;43m\"\u001b[39;49m\u001b[43m:\u001b[49m\u001b[43m \u001b[49m\u001b[43mfunctions\u001b[49m\u001b[43m,\u001b[49m\n\u001b[1;32m    307\u001b[0m \u001b[43m            \u001b[49m\u001b[38;5;124;43m\"\u001b[39;49m\u001b[38;5;124;43mlogit_bias\u001b[39;49m\u001b[38;5;124;43m\"\u001b[39;49m\u001b[43m:\u001b[49m\u001b[43m \u001b[49m\u001b[43mlogit_bias\u001b[49m\u001b[43m,\u001b[49m\n\u001b[1;32m    308\u001b[0m \u001b[43m            \u001b[49m\u001b[38;5;124;43m\"\u001b[39;49m\u001b[38;5;124;43mlogprobs\u001b[39;49m\u001b[38;5;124;43m\"\u001b[39;49m\u001b[43m:\u001b[49m\u001b[43m \u001b[49m\u001b[43mlogprobs\u001b[49m\u001b[43m,\u001b[49m\n\u001b[1;32m    309\u001b[0m \u001b[43m            \u001b[49m\u001b[38;5;124;43m\"\u001b[39;49m\u001b[38;5;124;43mmax_tokens\u001b[39;49m\u001b[38;5;124;43m\"\u001b[39;49m\u001b[43m:\u001b[49m\u001b[43m \u001b[49m\u001b[43mmax_tokens\u001b[49m\u001b[43m,\u001b[49m\n\u001b[1;32m    310\u001b[0m \u001b[43m            \u001b[49m\u001b[38;5;124;43m\"\u001b[39;49m\u001b[38;5;124;43mn\u001b[39;49m\u001b[38;5;124;43m\"\u001b[39;49m\u001b[43m:\u001b[49m\u001b[43m \u001b[49m\u001b[43mn\u001b[49m\u001b[43m,\u001b[49m\n\u001b[1;32m    311\u001b[0m \u001b[43m            \u001b[49m\u001b[38;5;124;43m\"\u001b[39;49m\u001b[38;5;124;43mparallel_tool_calls\u001b[39;49m\u001b[38;5;124;43m\"\u001b[39;49m\u001b[43m:\u001b[49m\u001b[43m \u001b[49m\u001b[43mparallel_tool_calls\u001b[49m\u001b[43m,\u001b[49m\n\u001b[1;32m    312\u001b[0m \u001b[43m            \u001b[49m\u001b[38;5;124;43m\"\u001b[39;49m\u001b[38;5;124;43mpresence_penalty\u001b[39;49m\u001b[38;5;124;43m\"\u001b[39;49m\u001b[43m:\u001b[49m\u001b[43m \u001b[49m\u001b[43mpresence_penalty\u001b[49m\u001b[43m,\u001b[49m\n\u001b[1;32m    313\u001b[0m \u001b[43m            \u001b[49m\u001b[38;5;124;43m\"\u001b[39;49m\u001b[38;5;124;43mresponse_format\u001b[39;49m\u001b[38;5;124;43m\"\u001b[39;49m\u001b[43m:\u001b[49m\u001b[43m \u001b[49m\u001b[43mresponse_format\u001b[49m\u001b[43m,\u001b[49m\n\u001b[1;32m    314\u001b[0m \u001b[43m            \u001b[49m\u001b[38;5;124;43m\"\u001b[39;49m\u001b[38;5;124;43mseed\u001b[39;49m\u001b[38;5;124;43m\"\u001b[39;49m\u001b[43m:\u001b[49m\u001b[43m \u001b[49m\u001b[43mseed\u001b[49m\u001b[43m,\u001b[49m\n\u001b[1;32m    315\u001b[0m \u001b[43m            \u001b[49m\u001b[38;5;124;43m\"\u001b[39;49m\u001b[38;5;124;43mstop\u001b[39;49m\u001b[38;5;124;43m\"\u001b[39;49m\u001b[43m:\u001b[49m\u001b[43m \u001b[49m\u001b[43mstop\u001b[49m\u001b[43m,\u001b[49m\n\u001b[1;32m    316\u001b[0m \u001b[43m            \u001b[49m\u001b[38;5;124;43m\"\u001b[39;49m\u001b[38;5;124;43mstream\u001b[39;49m\u001b[38;5;124;43m\"\u001b[39;49m\u001b[43m:\u001b[49m\u001b[43m \u001b[49m\u001b[43mstream\u001b[49m\u001b[43m,\u001b[49m\n\u001b[1;32m    317\u001b[0m \u001b[43m            \u001b[49m\u001b[38;5;124;43m\"\u001b[39;49m\u001b[38;5;124;43mtemperature\u001b[39;49m\u001b[38;5;124;43m\"\u001b[39;49m\u001b[43m:\u001b[49m\u001b[43m \u001b[49m\u001b[43mtemperature\u001b[49m\u001b[43m,\u001b[49m\n\u001b[1;32m    318\u001b[0m \u001b[43m            \u001b[49m\u001b[38;5;124;43m\"\u001b[39;49m\u001b[38;5;124;43mtool_choice\u001b[39;49m\u001b[38;5;124;43m\"\u001b[39;49m\u001b[43m:\u001b[49m\u001b[43m \u001b[49m\u001b[43mtool_choice\u001b[49m\u001b[43m,\u001b[49m\n\u001b[1;32m    319\u001b[0m \u001b[43m            \u001b[49m\u001b[38;5;124;43m\"\u001b[39;49m\u001b[38;5;124;43mtools\u001b[39;49m\u001b[38;5;124;43m\"\u001b[39;49m\u001b[43m:\u001b[49m\u001b[43m \u001b[49m\u001b[43mtools\u001b[49m\u001b[43m,\u001b[49m\n\u001b[1;32m    320\u001b[0m \u001b[43m            \u001b[49m\u001b[38;5;124;43m\"\u001b[39;49m\u001b[38;5;124;43mtop_logprobs\u001b[39;49m\u001b[38;5;124;43m\"\u001b[39;49m\u001b[43m:\u001b[49m\u001b[43m \u001b[49m\u001b[43mtop_logprobs\u001b[49m\u001b[43m,\u001b[49m\n\u001b[1;32m    321\u001b[0m \u001b[43m            \u001b[49m\u001b[38;5;124;43m\"\u001b[39;49m\u001b[38;5;124;43mtop_p\u001b[39;49m\u001b[38;5;124;43m\"\u001b[39;49m\u001b[43m:\u001b[49m\u001b[43m \u001b[49m\u001b[43mtop_p\u001b[49m\u001b[43m,\u001b[49m\n\u001b[1;32m    322\u001b[0m \u001b[43m            \u001b[49m\u001b[38;5;124;43m\"\u001b[39;49m\u001b[38;5;124;43muser\u001b[39;49m\u001b[38;5;124;43m\"\u001b[39;49m\u001b[43m:\u001b[49m\u001b[43m \u001b[49m\u001b[43muser\u001b[49m\u001b[43m,\u001b[49m\n\u001b[1;32m    323\u001b[0m \u001b[43m        \u001b[49m\u001b[43m}\u001b[49m\u001b[43m,\u001b[49m\n\u001b[1;32m    324\u001b[0m \u001b[43m        \u001b[49m\u001b[43mcompletion_create_params\u001b[49m\u001b[38;5;241;43m.\u001b[39;49m\u001b[43mCompletionCreateParams\u001b[49m\u001b[43m,\u001b[49m\n\u001b[1;32m    325\u001b[0m \u001b[43m    \u001b[49m\u001b[43m)\u001b[49m\u001b[43m,\u001b[49m\n\u001b[1;32m    326\u001b[0m \u001b[43m    \u001b[49m\u001b[43moptions\u001b[49m\u001b[38;5;241;43m=\u001b[39;49m\u001b[43mmake_request_options\u001b[49m\u001b[43m(\u001b[49m\n\u001b[1;32m    327\u001b[0m \u001b[43m        \u001b[49m\u001b[43mextra_headers\u001b[49m\u001b[38;5;241;43m=\u001b[39;49m\u001b[43mextra_headers\u001b[49m\u001b[43m,\u001b[49m\u001b[43m \u001b[49m\u001b[43mextra_query\u001b[49m\u001b[38;5;241;43m=\u001b[39;49m\u001b[43mextra_query\u001b[49m\u001b[43m,\u001b[49m\u001b[43m \u001b[49m\u001b[43mextra_body\u001b[49m\u001b[38;5;241;43m=\u001b[39;49m\u001b[43mextra_body\u001b[49m\u001b[43m,\u001b[49m\u001b[43m \u001b[49m\u001b[43mtimeout\u001b[49m\u001b[38;5;241;43m=\u001b[39;49m\u001b[43mtimeout\u001b[49m\n\u001b[1;32m    328\u001b[0m \u001b[43m    \u001b[49m\u001b[43m)\u001b[49m\u001b[43m,\u001b[49m\n\u001b[1;32m    329\u001b[0m \u001b[43m    \u001b[49m\u001b[43mcast_to\u001b[49m\u001b[38;5;241;43m=\u001b[39;49m\u001b[43mChatCompletion\u001b[49m\u001b[43m,\u001b[49m\n\u001b[1;32m    330\u001b[0m \u001b[43m    \u001b[49m\u001b[43mstream\u001b[49m\u001b[38;5;241;43m=\u001b[39;49m\u001b[43mstream\u001b[49m\u001b[43m \u001b[49m\u001b[38;5;129;43;01mor\u001b[39;49;00m\u001b[43m \u001b[49m\u001b[38;5;28;43;01mFalse\u001b[39;49;00m\u001b[43m,\u001b[49m\n\u001b[1;32m    331\u001b[0m \u001b[43m    \u001b[49m\u001b[43mstream_cls\u001b[49m\u001b[38;5;241;43m=\u001b[39;49m\u001b[43mStream\u001b[49m\u001b[43m[\u001b[49m\u001b[43mChatCompletionChunk\u001b[49m\u001b[43m]\u001b[49m\u001b[43m,\u001b[49m\n\u001b[1;32m    332\u001b[0m \u001b[43m\u001b[49m\u001b[43m)\u001b[49m\n",
      "File \u001b[0;32m~/.local/lib/python3.10/site-packages/groq/_base_client.py:1261\u001b[0m, in \u001b[0;36mSyncAPIClient.post\u001b[0;34m(self, path, cast_to, body, options, files, stream, stream_cls)\u001b[0m\n\u001b[1;32m   1258\u001b[0m opts \u001b[38;5;241m=\u001b[39m FinalRequestOptions\u001b[38;5;241m.\u001b[39mconstruct(\n\u001b[1;32m   1259\u001b[0m     method\u001b[38;5;241m=\u001b[39m\u001b[38;5;124m\"\u001b[39m\u001b[38;5;124mpost\u001b[39m\u001b[38;5;124m\"\u001b[39m, url\u001b[38;5;241m=\u001b[39mpath, json_data\u001b[38;5;241m=\u001b[39mbody, files\u001b[38;5;241m=\u001b[39mto_httpx_files(files), \u001b[38;5;241m*\u001b[39m\u001b[38;5;241m*\u001b[39moptions\n\u001b[1;32m   1260\u001b[0m )\n\u001b[0;32m-> 1261\u001b[0m \u001b[38;5;28;01mreturn\u001b[39;00m cast(ResponseT, \u001b[38;5;28;43mself\u001b[39;49m\u001b[38;5;241;43m.\u001b[39;49m\u001b[43mrequest\u001b[49m\u001b[43m(\u001b[49m\u001b[43mcast_to\u001b[49m\u001b[43m,\u001b[49m\u001b[43m \u001b[49m\u001b[43mopts\u001b[49m\u001b[43m,\u001b[49m\u001b[43m \u001b[49m\u001b[43mstream\u001b[49m\u001b[38;5;241;43m=\u001b[39;49m\u001b[43mstream\u001b[49m\u001b[43m,\u001b[49m\u001b[43m \u001b[49m\u001b[43mstream_cls\u001b[49m\u001b[38;5;241;43m=\u001b[39;49m\u001b[43mstream_cls\u001b[49m\u001b[43m)\u001b[49m)\n",
      "File \u001b[0;32m~/.local/lib/python3.10/site-packages/groq/_base_client.py:953\u001b[0m, in \u001b[0;36mSyncAPIClient.request\u001b[0;34m(self, cast_to, options, remaining_retries, stream, stream_cls)\u001b[0m\n\u001b[1;32m    951\u001b[0m     retries_taken \u001b[38;5;241m=\u001b[39m \u001b[38;5;241m0\u001b[39m\n\u001b[0;32m--> 953\u001b[0m \u001b[38;5;28;01mreturn\u001b[39;00m \u001b[38;5;28;43mself\u001b[39;49m\u001b[38;5;241;43m.\u001b[39;49m\u001b[43m_request\u001b[49m\u001b[43m(\u001b[49m\n\u001b[1;32m    954\u001b[0m \u001b[43m    \u001b[49m\u001b[43mcast_to\u001b[49m\u001b[38;5;241;43m=\u001b[39;49m\u001b[43mcast_to\u001b[49m\u001b[43m,\u001b[49m\n\u001b[1;32m    955\u001b[0m \u001b[43m    \u001b[49m\u001b[43moptions\u001b[49m\u001b[38;5;241;43m=\u001b[39;49m\u001b[43moptions\u001b[49m\u001b[43m,\u001b[49m\n\u001b[1;32m    956\u001b[0m \u001b[43m    \u001b[49m\u001b[43mstream\u001b[49m\u001b[38;5;241;43m=\u001b[39;49m\u001b[43mstream\u001b[49m\u001b[43m,\u001b[49m\n\u001b[1;32m    957\u001b[0m \u001b[43m    \u001b[49m\u001b[43mstream_cls\u001b[49m\u001b[38;5;241;43m=\u001b[39;49m\u001b[43mstream_cls\u001b[49m\u001b[43m,\u001b[49m\n\u001b[1;32m    958\u001b[0m \u001b[43m    \u001b[49m\u001b[43mretries_taken\u001b[49m\u001b[38;5;241;43m=\u001b[39;49m\u001b[43mretries_taken\u001b[49m\u001b[43m,\u001b[49m\n\u001b[1;32m    959\u001b[0m \u001b[43m\u001b[49m\u001b[43m)\u001b[49m\n",
      "File \u001b[0;32m~/.local/lib/python3.10/site-packages/groq/_base_client.py:1056\u001b[0m, in \u001b[0;36mSyncAPIClient._request\u001b[0;34m(self, cast_to, options, retries_taken, stream, stream_cls)\u001b[0m\n\u001b[1;32m   1055\u001b[0m     log\u001b[38;5;241m.\u001b[39mdebug(\u001b[38;5;124m\"\u001b[39m\u001b[38;5;124mRe-raising status error\u001b[39m\u001b[38;5;124m\"\u001b[39m)\n\u001b[0;32m-> 1056\u001b[0m     \u001b[38;5;28;01mraise\u001b[39;00m \u001b[38;5;28mself\u001b[39m\u001b[38;5;241m.\u001b[39m_make_status_error_from_response(err\u001b[38;5;241m.\u001b[39mresponse) \u001b[38;5;28;01mfrom\u001b[39;00m \u001b[38;5;28;01mNone\u001b[39;00m\n\u001b[1;32m   1058\u001b[0m \u001b[38;5;28;01mreturn\u001b[39;00m \u001b[38;5;28mself\u001b[39m\u001b[38;5;241m.\u001b[39m_process_response(\n\u001b[1;32m   1059\u001b[0m     cast_to\u001b[38;5;241m=\u001b[39mcast_to,\n\u001b[1;32m   1060\u001b[0m     options\u001b[38;5;241m=\u001b[39moptions,\n\u001b[0;32m   (...)\u001b[0m\n\u001b[1;32m   1064\u001b[0m     retries_taken\u001b[38;5;241m=\u001b[39mretries_taken,\n\u001b[1;32m   1065\u001b[0m )\n",
      "\u001b[0;31mRateLimitError\u001b[0m: Error code: 429 - {'error': {'message': 'Rate limit reached for model `llama-3.2-90b-text-preview` in organization `org_01jcrrx836eshv8r1mhyzevhc7` on : Limit 500000, Used 499936, Requested 433. Please try again in 1m3.72s. Visit https://console.groq.com/docs/rate-limits for more information.', 'type': '', 'code': 'rate_limit_exceeded'}}",
      "\nDuring handling of the above exception, another exception occurred:\n",
      "\u001b[0;31mKeyError\u001b[0m                                  Traceback (most recent call last)",
      "Cell \u001b[0;32mIn[10], line 24\u001b[0m\n\u001b[1;32m     21\u001b[0m batch \u001b[38;5;241m=\u001b[39m \u001b[38;5;241m10\u001b[39m\n\u001b[1;32m     22\u001b[0m limit \u001b[38;5;241m=\u001b[39m \u001b[38;5;28mlen\u001b[39m(essays_dataset)\n\u001b[0;32m---> 24\u001b[0m \u001b[43mrun_experiment\u001b[49m\u001b[43m(\u001b[49m\u001b[43mexp\u001b[49m\u001b[43m,\u001b[49m\u001b[43m \u001b[49m\u001b[43messays_dataset\u001b[49m\u001b[43m,\u001b[49m\u001b[43m \u001b[49m\u001b[43mstart\u001b[49m\u001b[43m,\u001b[49m\u001b[43m \u001b[49m\u001b[43mlimit\u001b[49m\u001b[43m,\u001b[49m\u001b[43m \u001b[49m\u001b[43mbatch\u001b[49m\u001b[43m,\u001b[49m\u001b[43m \u001b[49m\u001b[43mpath_to_save\u001b[49m\u001b[43m,\u001b[49m\u001b[43m \u001b[49m\u001b[43mfilename_to_save\u001b[49m\u001b[43m,\u001b[49m\u001b[43m \u001b[49m\u001b[43mmodel_name\u001b[49m\u001b[43m)\u001b[49m\n\u001b[1;32m     25\u001b[0m batch_saved \u001b[38;5;241m=\u001b[39m \u001b[38;5;241m0\u001b[39m \u001b[38;5;66;03m# IMPORTANT WHEN MODEL STOP IN THE MIDDLE\u001b[39;00m\n\u001b[1;32m     26\u001b[0m execution \u001b[38;5;241m+\u001b[39m\u001b[38;5;241m=\u001b[39m \u001b[38;5;241m1\u001b[39m\n",
      "Cell \u001b[0;32mIn[6], line 13\u001b[0m, in \u001b[0;36mrun_experiment\u001b[0;34m(exp, essays_dataset, start, limit, batch, path_to_save, filename_to_save, model_name)\u001b[0m\n\u001b[1;32m     11\u001b[0m   time\u001b[38;5;241m.\u001b[39msleep(\u001b[38;5;241m180\u001b[39m)\n\u001b[1;32m     12\u001b[0m   chat \u001b[38;5;241m=\u001b[39m model_setup(model_name)\n\u001b[0;32m---> 13\u001b[0m   essays_outputs \u001b[38;5;241m=\u001b[39m \u001b[43mrun_model\u001b[49m\u001b[43m(\u001b[49m\u001b[43messays_dataset\u001b[49m\u001b[43m,\u001b[49m\u001b[43m \u001b[49m\u001b[43mexp\u001b[49m\u001b[43m,\u001b[49m\u001b[43m \u001b[49m\u001b[43mini\u001b[49m\u001b[43m,\u001b[49m\u001b[43m \u001b[49m\u001b[43mend\u001b[49m\u001b[43m,\u001b[49m\u001b[43m \u001b[49m\u001b[43mrun_model\u001b[49m\u001b[43m)\u001b[49m\n\u001b[1;32m     16\u001b[0m \u001b[38;5;28;01mif\u001b[39;00m ini \u001b[38;5;241m==\u001b[39m \u001b[38;5;241m0\u001b[39m:\n\u001b[1;32m     17\u001b[0m   create_csv_header(path_to_save, filename_to_save, essays_outputs[\u001b[38;5;241m0\u001b[39m]\u001b[38;5;241m.\u001b[39mkeys())\n",
      "Cell \u001b[0;32mIn[5], line 22\u001b[0m, in \u001b[0;36mrun_model\u001b[0;34m(essays_dataset, exp, ini, end, model_name)\u001b[0m\n\u001b[1;32m     20\u001b[0m \u001b[38;5;28mprint\u001b[39m(\u001b[38;5;124m\"\u001b[39m\u001b[38;5;124mIt will evaluated essay with number:\u001b[39m\u001b[38;5;124m\"\u001b[39m \u001b[38;5;241m+\u001b[39m \u001b[38;5;28mstr\u001b[39m(i))\n\u001b[1;32m     21\u001b[0m prompt \u001b[38;5;241m=\u001b[39m exp\u001b[38;5;241m.\u001b[39mbuild_prompt(essay, prompt)\n\u001b[0;32m---> 22\u001b[0m grades, response \u001b[38;5;241m=\u001b[39m \u001b[43mmade_question\u001b[49m\u001b[43m(\u001b[49m\u001b[43mmodel_name\u001b[49m\u001b[43m,\u001b[49m\u001b[43m \u001b[49m\u001b[43mchat\u001b[49m\u001b[43m,\u001b[49m\u001b[43m \u001b[49m\u001b[43mprompt\u001b[49m\u001b[43m)\u001b[49m\n\u001b[1;32m     24\u001b[0m \u001b[38;5;28mprint\u001b[39m(\u001b[38;5;124m\"\u001b[39m\u001b[38;5;124mEvaluated essay with number: \u001b[39m\u001b[38;5;124m\"\u001b[39m \u001b[38;5;241m+\u001b[39m \u001b[38;5;28mstr\u001b[39m(i))\n\u001b[1;32m     26\u001b[0m model_key \u001b[38;5;241m=\u001b[39m model_name\u001b[38;5;241m.\u001b[39msplit(\u001b[38;5;124m\"\u001b[39m\u001b[38;5;124m-\u001b[39m\u001b[38;5;124m\"\u001b[39m)[\u001b[38;5;241m0\u001b[39m]\n",
      "File \u001b[0;32m~/Documents/IME/9sem/tcc/AutomatedENEMEssaysCorrectionUsingChatBots/utils/model_setup.py:60\u001b[0m, in \u001b[0;36mmade_question\u001b[0;34m(model_name, chat, prompt)\u001b[0m\n\u001b[1;32m     58\u001b[0m grades \u001b[38;5;241m=\u001b[39m \u001b[38;5;124m\"\u001b[39m\u001b[38;5;124m\"\u001b[39m\n\u001b[1;32m     59\u001b[0m reponse \u001b[38;5;241m=\u001b[39m \u001b[38;5;124m\"\u001b[39m\u001b[38;5;124m\"\u001b[39m\n\u001b[0;32m---> 60\u001b[0m sleep_time \u001b[38;5;241m=\u001b[39m \u001b[43mSLEEP_TIME\u001b[49m\u001b[43m[\u001b[49m\u001b[43mmodel_name\u001b[49m\u001b[43m]\u001b[49m\n\u001b[1;32m     61\u001b[0m pattern \u001b[38;5;241m=\u001b[39m \u001b[38;5;124mr\u001b[39m\u001b[38;5;124m\"\u001b[39m\u001b[38;5;124m(\u001b[39m\u001b[38;5;124m\\\u001b[39m\u001b[38;5;124md+)\u001b[39m\u001b[38;5;124m\\\u001b[39m\u001b[38;5;124mD\u001b[39m\u001b[38;5;124m{\u001b[39m\u001b[38;5;124m0,3}(\u001b[39m\u001b[38;5;124m\\\u001b[39m\u001b[38;5;124md+)\u001b[39m\u001b[38;5;124m\\\u001b[39m\u001b[38;5;124mD\u001b[39m\u001b[38;5;124m{\u001b[39m\u001b[38;5;124m0,3}(\u001b[39m\u001b[38;5;124m\\\u001b[39m\u001b[38;5;124md+)\u001b[39m\u001b[38;5;124m\\\u001b[39m\u001b[38;5;124mD\u001b[39m\u001b[38;5;124m{\u001b[39m\u001b[38;5;124m0,3}(\u001b[39m\u001b[38;5;124m\\\u001b[39m\u001b[38;5;124md+)\u001b[39m\u001b[38;5;124m\\\u001b[39m\u001b[38;5;124mD\u001b[39m\u001b[38;5;124m{\u001b[39m\u001b[38;5;124m0,3}(\u001b[39m\u001b[38;5;124m\\\u001b[39m\u001b[38;5;124md+)\u001b[39m\u001b[38;5;124m\\\u001b[39m\u001b[38;5;124mD\u001b[39m\u001b[38;5;124m{\u001b[39m\u001b[38;5;124m0,3}(\u001b[39m\u001b[38;5;124m\\\u001b[39m\u001b[38;5;124md+)\u001b[39m\u001b[38;5;124m\"\u001b[39m\n\u001b[1;32m     63\u001b[0m \u001b[38;5;28;01mtry\u001b[39;00m:\n",
      "\u001b[0;31mKeyError\u001b[0m: <function run_model at 0x7f6c3d834af0>"
     ]
    }
   ],
   "source": [
    "while experiment_code <= 5:\n",
    "  \"\"\"\n",
    "  Setup Experiment\n",
    "  \"\"\"\n",
    "  experiment_name, experiment_code = choose_experiment(experiment_code)\n",
    "  exp = setup_experiment(path_to_experiments, experiment_name)\n",
    "\n",
    "  save_state(batch_saved)\n",
    "\n",
    "  while execution <= execution_limit:\n",
    "    print()\n",
    "    print()\n",
    "    print(\"Execution number: \" + str(execution))\n",
    "    print()\n",
    "    print()\n",
    "\n",
    "    start = batch_saved\n",
    "    path_to_save = create_experiment_folder(path_to, model_name, experiment_name, dataset_name)\n",
    "    filename_to_save = build_filename_to_save(model_name, experiment_name, dataset_name, str(execution))\n",
    "\n",
    "    batch = 10\n",
    "    limit = len(essays_dataset)\n",
    "\n",
    "    run_experiment(exp, essays_dataset, start, limit, batch, path_to_save, filename_to_save, model_name)\n",
    "    batch_saved = 0 # IMPORTANT WHEN MODEL STOP IN THE MIDDLE\n",
    "    execution += 1\n",
    "    save_state()\n",
    "\n",
    "  experiment_code += 1\n",
    "  execution = 0\n",
    "  save_state()\n"
   ]
  },
  {
   "cell_type": "code",
   "execution_count": null,
   "id": "9e20d94e-5b31-4762-ae1d-450a95dfd067",
   "metadata": {},
   "outputs": [],
   "source": [
    "\"\"\"\n",
    "Setup Experiment\n",
    "\"\"\"\n",
    "experiment_name, experiment_code = choose_experiment(experiment_code)\n",
    "exp = setup_experiment(path_to_experiments, experiment_name)"
   ]
  },
  {
   "cell_type": "code",
   "execution_count": null,
   "id": "c32fa487-19f7-4a7d-88e8-2a5ff1e14d34",
   "metadata": {},
   "outputs": [],
   "source": [
    "essay_data = essays_dataset[2]\n",
    "essay = essay_data[\"essay_text\"]\n",
    "prompt = essay_data[\"id_prompt\"].replace(\"-\", \" \")\n",
    "prompt = exp.build_prompt(essay, prompt)\n",
    "\n",
    "model_prompt = exp.build_prompt(essay, prompt)"
   ]
  },
  {
   "cell_type": "code",
   "execution_count": null,
   "id": "5f03b019-b162-48cb-a75e-63a9a1729c77",
   "metadata": {},
   "outputs": [],
   "source": [
    "grades, response = made_question(model_name, chat, model_prompt)"
   ]
  },
  {
   "cell_type": "code",
   "execution_count": null,
   "id": "cc90b5b5-f66a-4f84-b735-0d5149e46ee5",
   "metadata": {},
   "outputs": [],
   "source": [
    "print"
   ]
  },
  {
   "cell_type": "code",
   "execution_count": null,
   "id": "307853fc-1f65-4267-bec5-574db7f235f7",
   "metadata": {},
   "outputs": [],
   "source": []
  }
 ],
 "metadata": {
  "kernelspec": {
   "display_name": "Python 3 (ipykernel)",
   "language": "python",
   "name": "python3"
  },
  "language_info": {
   "codemirror_mode": {
    "name": "ipython",
    "version": 3
   },
   "file_extension": ".py",
   "mimetype": "text/x-python",
   "name": "python",
   "nbconvert_exporter": "python",
   "pygments_lexer": "ipython3",
   "version": "3.10.12"
  }
 },
 "nbformat": 4,
 "nbformat_minor": 5
}
